{
 "cells": [
  {
   "cell_type": "code",
   "execution_count": 2,
   "id": "5579c0d3-a0e4-4bf1-bc11-d6023a3f686c",
   "metadata": {},
   "outputs": [
    {
     "data": {
      "text/plain": [
       "2"
      ]
     },
     "execution_count": 2,
     "metadata": {},
     "output_type": "execute_result"
    }
   ],
   "source": [
    "1+1"
   ]
  },
  {
   "cell_type": "code",
   "execution_count": 3,
   "id": "527172b8-3635-491f-8a69-f09bd0e4ed72",
   "metadata": {},
   "outputs": [
    {
     "data": {
      "text/plain": [
       "25"
      ]
     },
     "execution_count": 3,
     "metadata": {},
     "output_type": "execute_result"
    }
   ],
   "source": [
    "5*5"
   ]
  },
  {
   "cell_type": "code",
   "execution_count": 4,
   "id": "ef958fed-0039-4c46-aeaa-8011a1e530e9",
   "metadata": {},
   "outputs": [
    {
     "data": {
      "text/plain": [
       "3"
      ]
     },
     "execution_count": 4,
     "metadata": {},
     "output_type": "execute_result"
    }
   ],
   "source": [
    "1+2"
   ]
  },
  {
   "cell_type": "code",
   "execution_count": 5,
   "id": "0a40db8e-cf76-4653-b5af-7fd934bc3d91",
   "metadata": {},
   "outputs": [],
   "source": [
    "a=10"
   ]
  },
  {
   "cell_type": "code",
   "execution_count": 6,
   "id": "fbd46d1f-af1a-4637-9310-3eaf3e4121c5",
   "metadata": {},
   "outputs": [
    {
     "data": {
      "text/plain": [
       "10"
      ]
     },
     "execution_count": 6,
     "metadata": {},
     "output_type": "execute_result"
    }
   ],
   "source": [
    "a"
   ]
  },
  {
   "cell_type": "code",
   "execution_count": 7,
   "id": "a2cdc5c3-3b47-45e1-b5e2-1b34c13e14d4",
   "metadata": {},
   "outputs": [
    {
     "name": "stdout",
     "output_type": "stream",
     "text": [
      "a\n"
     ]
    }
   ],
   "source": [
    "print(\"a\")"
   ]
  },
  {
   "cell_type": "code",
   "execution_count": 8,
   "id": "302ef4af-59ee-4b27-b36c-11a60ee65ef9",
   "metadata": {},
   "outputs": [],
   "source": [
    "suf=20"
   ]
  },
  {
   "cell_type": "code",
   "execution_count": 9,
   "id": "fffde804-8ae1-401f-bc9c-0e898087f6c8",
   "metadata": {},
   "outputs": [
    {
     "data": {
      "text/plain": [
       "20"
      ]
     },
     "execution_count": 9,
     "metadata": {},
     "output_type": "execute_result"
    }
   ],
   "source": [
    "suf"
   ]
  },
  {
   "cell_type": "code",
   "execution_count": 10,
   "id": "c69b85f9-3867-46fe-b64f-209d25544eb5",
   "metadata": {},
   "outputs": [
    {
     "data": {
      "text/plain": [
       "30"
      ]
     },
     "execution_count": 10,
     "metadata": {},
     "output_type": "execute_result"
    }
   ],
   "source": [
    "a+suf"
   ]
  },
  {
   "cell_type": "code",
   "execution_count": 11,
   "id": "26c428d8-c728-4221-9188-8dd720c0215d",
   "metadata": {},
   "outputs": [
    {
     "data": {
      "text/plain": [
       "int"
      ]
     },
     "execution_count": 11,
     "metadata": {},
     "output_type": "execute_result"
    }
   ],
   "source": [
    "type(a)"
   ]
  },
  {
   "cell_type": "code",
   "execution_count": 12,
   "id": "0425db7d-c931-4d1c-bb27-653a20bf6bce",
   "metadata": {},
   "outputs": [
    {
     "data": {
      "text/plain": [
       "int"
      ]
     },
     "execution_count": 12,
     "metadata": {},
     "output_type": "execute_result"
    }
   ],
   "source": [
    "type(suf)"
   ]
  },
  {
   "cell_type": "code",
   "execution_count": 13,
   "id": "bfb935b9-c221-42d7-805f-f2145b3c6b48",
   "metadata": {},
   "outputs": [],
   "source": [
    "b=2.09"
   ]
  },
  {
   "cell_type": "code",
   "execution_count": 14,
   "id": "f4aa1576-82fa-416a-a21b-882ee6e42ecf",
   "metadata": {},
   "outputs": [
    {
     "data": {
      "text/plain": [
       "float"
      ]
     },
     "execution_count": 14,
     "metadata": {},
     "output_type": "execute_result"
    }
   ],
   "source": [
    "type(2.09)"
   ]
  },
  {
   "cell_type": "code",
   "execution_count": 15,
   "id": "cc3a379d-9613-47d0-a1a4-ed0e80ea906b",
   "metadata": {},
   "outputs": [],
   "source": [
    "c=45.9424"
   ]
  },
  {
   "cell_type": "code",
   "execution_count": 16,
   "id": "5ba83eec-d80b-4460-a4ed-0550200bc7b4",
   "metadata": {},
   "outputs": [
    {
     "data": {
      "text/plain": [
       "float"
      ]
     },
     "execution_count": 16,
     "metadata": {},
     "output_type": "execute_result"
    }
   ],
   "source": [
    "type(c)"
   ]
  },
  {
   "cell_type": "code",
   "execution_count": 17,
   "id": "c9dbed0a-3cf5-4682-bbd5-2b0004493e81",
   "metadata": {},
   "outputs": [],
   "source": [
    "D=\"sufyan\""
   ]
  },
  {
   "cell_type": "code",
   "execution_count": 18,
   "id": "83477bbc-2f78-4027-a20a-dd5f297a3e87",
   "metadata": {},
   "outputs": [
    {
     "data": {
      "text/plain": [
       "str"
      ]
     },
     "execution_count": 18,
     "metadata": {},
     "output_type": "execute_result"
    }
   ],
   "source": [
    "type(D)"
   ]
  },
  {
   "cell_type": "code",
   "execution_count": 19,
   "id": "4ebf2d82-f731-4c0b-9129-9600ca18e7ce",
   "metadata": {},
   "outputs": [],
   "source": [
    "e=\"thos is my first class\""
   ]
  },
  {
   "cell_type": "code",
   "execution_count": 20,
   "id": "185e905e-b9e8-4f17-984e-4f970dda6588",
   "metadata": {},
   "outputs": [
    {
     "data": {
      "text/plain": [
       "str"
      ]
     },
     "execution_count": 20,
     "metadata": {},
     "output_type": "execute_result"
    }
   ],
   "source": [
    "type(e)"
   ]
  },
  {
   "cell_type": "code",
   "execution_count": 21,
   "id": "b5c300eb-d317-42af-84c4-828f0573c6ac",
   "metadata": {},
   "outputs": [],
   "source": [
    "n=True"
   ]
  },
  {
   "cell_type": "code",
   "execution_count": 22,
   "id": "f4d59e90-ab73-43c0-b39b-ff4cc4f9045f",
   "metadata": {},
   "outputs": [
    {
     "data": {
      "text/plain": [
       "bool"
      ]
     },
     "execution_count": 22,
     "metadata": {},
     "output_type": "execute_result"
    }
   ],
   "source": [
    "type(n)"
   ]
  },
  {
   "cell_type": "code",
   "execution_count": 23,
   "id": "67078d09-17a8-4237-8e65-07dfa0861acb",
   "metadata": {},
   "outputs": [],
   "source": [
    "m=False"
   ]
  },
  {
   "cell_type": "code",
   "execution_count": 24,
   "id": "ccec79d5-dd92-43ba-b100-4fcf3aa72c2f",
   "metadata": {},
   "outputs": [
    {
     "data": {
      "text/plain": [
       "bool"
      ]
     },
     "execution_count": 24,
     "metadata": {},
     "output_type": "execute_result"
    }
   ],
   "source": [
    "type(m)"
   ]
  },
  {
   "cell_type": "code",
   "execution_count": 25,
   "id": "896e028b-97de-42a9-b025-2ce51ad261ae",
   "metadata": {},
   "outputs": [
    {
     "data": {
      "text/plain": [
       "1"
      ]
     },
     "execution_count": 25,
     "metadata": {},
     "output_type": "execute_result"
    }
   ],
   "source": [
    "n+m"
   ]
  },
  {
   "cell_type": "code",
   "execution_count": 26,
   "id": "7c605f15-0354-4e8a-b4ef-3d2c1ca9d9cb",
   "metadata": {},
   "outputs": [
    {
     "data": {
      "text/plain": [
       "1"
      ]
     },
     "execution_count": 26,
     "metadata": {},
     "output_type": "execute_result"
    }
   ],
   "source": [
    "True*True"
   ]
  },
  {
   "cell_type": "code",
   "execution_count": 27,
   "id": "2f7f8ba6-37eb-4307-a671-f94374fc8bba",
   "metadata": {},
   "outputs": [
    {
     "data": {
      "text/plain": [
       "0"
      ]
     },
     "execution_count": 27,
     "metadata": {},
     "output_type": "execute_result"
    }
   ],
   "source": [
    "True*False"
   ]
  },
  {
   "cell_type": "code",
   "execution_count": 28,
   "id": "587d707a-0484-438f-b98b-e89f315cf397",
   "metadata": {},
   "outputs": [
    {
     "ename": "ZeroDivisionError",
     "evalue": "division by zero",
     "output_type": "error",
     "traceback": [
      "\u001b[0;31m---------------------------------------------------------------------------\u001b[0m",
      "\u001b[0;31mZeroDivisionError\u001b[0m                         Traceback (most recent call last)",
      "Cell \u001b[0;32mIn[28], line 1\u001b[0m\n\u001b[0;32m----> 1\u001b[0m \u001b[38;5;28;43;01mTrue\u001b[39;49;00m\u001b[38;5;241;43m/\u001b[39;49m\u001b[38;5;28;43;01mFalse\u001b[39;49;00m\n",
      "\u001b[0;31mZeroDivisionError\u001b[0m: division by zero"
     ]
    }
   ],
   "source": [
    "True/False"
   ]
  },
  {
   "cell_type": "code",
   "execution_count": null,
   "id": "a96fe8b0-4414-4eb5-8f87-06c90abee17d",
   "metadata": {},
   "outputs": [],
   "source": [
    "v=5+8j"
   ]
  },
  {
   "cell_type": "code",
   "execution_count": null,
   "id": "551a5447-3c39-4ac8-ba9d-651b40facdea",
   "metadata": {},
   "outputs": [],
   "source": [
    "type(v)"
   ]
  },
  {
   "cell_type": "code",
   "execution_count": null,
   "id": "06ddde93-6a2d-45c2-ab43-09d8905ce5a7",
   "metadata": {},
   "outputs": [],
   "source": [
    "v.real"
   ]
  },
  {
   "cell_type": "code",
   "execution_count": null,
   "id": "1be8a7a2-589f-4caa-aba8-7600051d5f20",
   "metadata": {},
   "outputs": [],
   "source": [
    "v.imag"
   ]
  },
  {
   "cell_type": "code",
   "execution_count": 29,
   "id": "81796bb1-d2b7-446f-ba09-a9c2a0f6d9c4",
   "metadata": {},
   "outputs": [
    {
     "ename": "NameError",
     "evalue": "name 'v' is not defined",
     "output_type": "error",
     "traceback": [
      "\u001b[0;31m---------------------------------------------------------------------------\u001b[0m",
      "\u001b[0;31mNameError\u001b[0m                                 Traceback (most recent call last)",
      "Cell \u001b[0;32mIn[29], line 1\u001b[0m\n\u001b[0;32m----> 1\u001b[0m \u001b[43mv\u001b[49m\u001b[38;5;241m.\u001b[39mconjugate\n",
      "\u001b[0;31mNameError\u001b[0m: name 'v' is not defined"
     ]
    }
   ],
   "source": [
    "v.conjugate"
   ]
  },
  {
   "cell_type": "code",
   "execution_count": null,
   "id": "cf802846-fc19-42db-81aa-d9238ae78980",
   "metadata": {},
   "outputs": [],
   "source": [
    "print(\"this is shudanshu\")"
   ]
  },
  {
   "cell_type": "code",
   "execution_count": null,
   "id": "89c959fc-b1f1-4c5b-b324-34576c2853b6",
   "metadata": {},
   "outputs": [],
   "source": [
    " Print(v)"
   ]
  },
  {
   "cell_type": "code",
   "execution_count": null,
   "id": "57e7d1f5-f91e-4711-b1a8-b0138c8a8f2f",
   "metadata": {},
   "outputs": [],
   "source": [
    "print(v)"
   ]
  },
  {
   "cell_type": "code",
   "execution_count": null,
   "id": "b7829ec1-dcd1-4b98-8b82-7239d65a93ac",
   "metadata": {},
   "outputs": [],
   "source": [
    "s=\"pwskills\""
   ]
  },
  {
   "cell_type": "code",
   "execution_count": null,
   "id": "1f80f62b-8178-47a0-a330-e61da75df544",
   "metadata": {},
   "outputs": [],
   "source": [
    "s=\"pwskills\""
   ]
  },
  {
   "cell_type": "code",
   "execution_count": 30,
   "id": "e7b5a0a9-3c5c-4d59-8fed-274be4f7a58e",
   "metadata": {},
   "outputs": [
    {
     "ename": "NameError",
     "evalue": "name 's' is not defined",
     "output_type": "error",
     "traceback": [
      "\u001b[0;31m---------------------------------------------------------------------------\u001b[0m",
      "\u001b[0;31mNameError\u001b[0m                                 Traceback (most recent call last)",
      "Cell \u001b[0;32mIn[30], line 1\u001b[0m\n\u001b[0;32m----> 1\u001b[0m \u001b[38;5;28mtype\u001b[39m(\u001b[43ms\u001b[49m)\n",
      "\u001b[0;31mNameError\u001b[0m: name 's' is not defined"
     ]
    }
   ],
   "source": [
    "type(s)"
   ]
  },
  {
   "cell_type": "code",
   "execution_count": null,
   "id": "d5581cea-db6d-4737-b7b1-1f019f1aad4d",
   "metadata": {},
   "outputs": [],
   "source": [
    "s[0]"
   ]
  },
  {
   "cell_type": "code",
   "execution_count": null,
   "id": "dcff48c1-f626-48e3-b14e-fce7c1e26e53",
   "metadata": {},
   "outputs": [],
   "source": [
    "s[2]"
   ]
  },
  {
   "cell_type": "code",
   "execution_count": null,
   "id": "6fd2446b-1425-4a9f-aee9-01865932b719",
   "metadata": {},
   "outputs": [],
   "source": [
    "s[-7]"
   ]
  },
  {
   "cell_type": "code",
   "execution_count": null,
   "id": "7a98c3fb-ea18-442e-807a-a389a7851ee0",
   "metadata": {},
   "outputs": [],
   "source": [
    "s[0:3]"
   ]
  },
  {
   "cell_type": "code",
   "execution_count": null,
   "id": "3ae2e3b0-a3c8-462b-bf00-cf22ad4119de",
   "metadata": {},
   "outputs": [],
   "source": [
    "s[0:8:2]"
   ]
  },
  {
   "cell_type": "code",
   "execution_count": null,
   "id": "79a2f6e1-5aa6-4139-9021-de6ff3241e06",
   "metadata": {},
   "outputs": [],
   "source": []
  },
  {
   "cell_type": "code",
   "execution_count": 31,
   "id": "6b1efdd2-8243-45ad-bba9-c4082f374c1b",
   "metadata": {},
   "outputs": [],
   "source": [
    "\n",
    "s=\"pwskills\""
   ]
  },
  {
   "cell_type": "code",
   "execution_count": 32,
   "id": "0dfb95e1-f064-49fc-8997-8561b474ffad",
   "metadata": {},
   "outputs": [
    {
     "data": {
      "text/plain": [
       "'psil'"
      ]
     },
     "execution_count": 32,
     "metadata": {},
     "output_type": "execute_result"
    }
   ],
   "source": [
    "s[::2]"
   ]
  },
  {
   "cell_type": "code",
   "execution_count": 33,
   "id": "ba09f8de-890a-4e21-80fe-6903c2eb382b",
   "metadata": {},
   "outputs": [
    {
     "data": {
      "text/plain": [
       "'pwskills'"
      ]
     },
     "execution_count": 33,
     "metadata": {},
     "output_type": "execute_result"
    }
   ],
   "source": [
    "s"
   ]
  },
  {
   "cell_type": "code",
   "execution_count": 34,
   "id": "7d81e1b0-cfbd-4b54-af2f-a5988bd1f3d8",
   "metadata": {},
   "outputs": [
    {
     "name": "stdout",
     "output_type": "stream",
     "text": [
      "pwskills\n"
     ]
    }
   ],
   "source": [
    "print(s)"
   ]
  },
  {
   "cell_type": "code",
   "execution_count": 35,
   "id": "cd74e816-c5e3-43dc-9fe6-ff7cb6d7971f",
   "metadata": {},
   "outputs": [],
   "source": [
    "\n",
    "s=\"pwskills\"\n"
   ]
  },
  {
   "cell_type": "code",
   "execution_count": 36,
   "id": "7d995c7e-21c0-4b49-96cf-f3976b327272",
   "metadata": {},
   "outputs": [
    {
     "data": {
      "text/plain": [
       "10"
      ]
     },
     "execution_count": 36,
     "metadata": {},
     "output_type": "execute_result"
    }
   ],
   "source": [
    "a"
   ]
  },
  {
   "cell_type": "code",
   "execution_count": 37,
   "id": "124a73bc-6ad1-49bc-a238-574be512e656",
   "metadata": {},
   "outputs": [
    {
     "data": {
      "text/plain": [
       "10"
      ]
     },
     "execution_count": 37,
     "metadata": {},
     "output_type": "execute_result"
    }
   ],
   "source": [
    "a\n"
   ]
  },
  {
   "cell_type": "code",
   "execution_count": 38,
   "id": "f44b2c5c-4b41-497b-80f1-e52813cfcca2",
   "metadata": {},
   "outputs": [
    {
     "data": {
      "text/plain": [
       "10"
      ]
     },
     "execution_count": 38,
     "metadata": {},
     "output_type": "execute_result"
    }
   ],
   "source": [
    "a"
   ]
  },
  {
   "cell_type": "code",
   "execution_count": 39,
   "id": "4a3271bb-7995-4a56-b3ca-858634d89f76",
   "metadata": {},
   "outputs": [
    {
     "data": {
      "text/plain": [
       "'pwskills'"
      ]
     },
     "execution_count": 39,
     "metadata": {},
     "output_type": "execute_result"
    }
   ],
   "source": [
    "s"
   ]
  },
  {
   "cell_type": "code",
   "execution_count": 40,
   "id": "e24c32b2-eaee-4acc-a35d-ea51d568fa64",
   "metadata": {},
   "outputs": [],
   "source": [
    "s=\"pwskills\""
   ]
  },
  {
   "cell_type": "code",
   "execution_count": 41,
   "id": "23a1be24-0864-4f58-80b2-33c3cb5ea13e",
   "metadata": {},
   "outputs": [
    {
     "data": {
      "text/plain": [
       "'pwskills'"
      ]
     },
     "execution_count": 41,
     "metadata": {},
     "output_type": "execute_result"
    }
   ],
   "source": [
    "s\n"
   ]
  },
  {
   "cell_type": "code",
   "execution_count": 42,
   "id": "6d9cb6d4-a902-45d9-bcd0-876fad0f8df2",
   "metadata": {},
   "outputs": [
    {
     "data": {
      "text/plain": [
       "str"
      ]
     },
     "execution_count": 42,
     "metadata": {},
     "output_type": "execute_result"
    }
   ],
   "source": [
    "type(s)"
   ]
  },
  {
   "cell_type": "code",
   "execution_count": 43,
   "id": "bc5d38cb-08a4-413f-b454-8c76638ae953",
   "metadata": {},
   "outputs": [
    {
     "data": {
      "text/plain": [
       "'psil'"
      ]
     },
     "execution_count": 43,
     "metadata": {},
     "output_type": "execute_result"
    }
   ],
   "source": [
    "s[::2]"
   ]
  },
  {
   "cell_type": "code",
   "execution_count": 44,
   "id": "37bbc9e5-5321-43ca-8860-4a4f56bdeb2a",
   "metadata": {},
   "outputs": [
    {
     "data": {
      "text/plain": [
       "'sil'"
      ]
     },
     "execution_count": 44,
     "metadata": {},
     "output_type": "execute_result"
    }
   ],
   "source": [
    "s[2::2]"
   ]
  },
  {
   "cell_type": "code",
   "execution_count": 45,
   "id": "b4f934f0-30b6-42b2-848d-6829d83e6bca",
   "metadata": {},
   "outputs": [
    {
     "data": {
      "text/plain": [
       "'sllikswp'"
      ]
     },
     "execution_count": 45,
     "metadata": {},
     "output_type": "execute_result"
    }
   ],
   "source": [
    "s[::-1]"
   ]
  },
  {
   "cell_type": "code",
   "execution_count": 46,
   "id": "ea1ea398-e267-4e29-908d-eae41b82a96c",
   "metadata": {},
   "outputs": [
    {
     "data": {
      "text/plain": [
       "2"
      ]
     },
     "execution_count": 46,
     "metadata": {},
     "output_type": "execute_result"
    }
   ],
   "source": [
    "1+1"
   ]
  },
  {
   "cell_type": "code",
   "execution_count": 47,
   "id": "a4c438b8-2012-4737-8ba7-c72071052b95",
   "metadata": {},
   "outputs": [
    {
     "data": {
      "text/plain": [
       "'pwskills'"
      ]
     },
     "execution_count": 47,
     "metadata": {},
     "output_type": "execute_result"
    }
   ],
   "source": [
    "s"
   ]
  },
  {
   "cell_type": "code",
   "execution_count": 48,
   "id": "dd9abff3-f909-46a1-9cb4-5cec1cac6a0d",
   "metadata": {},
   "outputs": [
    {
     "data": {
      "text/plain": [
       "2"
      ]
     },
     "execution_count": 48,
     "metadata": {},
     "output_type": "execute_result"
    }
   ],
   "source": [
    "1+1"
   ]
  },
  {
   "cell_type": "code",
   "execution_count": 49,
   "id": "2aa9d306-5e2f-451a-8289-088b5e1514ca",
   "metadata": {},
   "outputs": [
    {
     "data": {
      "text/plain": [
       "'pwskills'"
      ]
     },
     "execution_count": 49,
     "metadata": {},
     "output_type": "execute_result"
    }
   ],
   "source": [
    "s"
   ]
  },
  {
   "cell_type": "code",
   "execution_count": null,
   "id": "5b7cf58d-0c7e-4b86-bfc2-d820558ef0b7",
   "metadata": {},
   "outputs": [],
   "source": []
  },
  {
   "cell_type": "code",
   "execution_count": 50,
   "id": "3507eac0-2f5d-4fa5-8a14-6f4ed28f790c",
   "metadata": {},
   "outputs": [
    {
     "data": {
      "text/plain": [
       "2"
      ]
     },
     "execution_count": 50,
     "metadata": {},
     "output_type": "execute_result"
    }
   ],
   "source": [
    "1+1"
   ]
  },
  {
   "cell_type": "code",
   "execution_count": 51,
   "id": "bdebdb53-e2fa-4f6f-90ab-f3d94a264df4",
   "metadata": {},
   "outputs": [
    {
     "data": {
      "text/plain": [
       "'pwskills'"
      ]
     },
     "execution_count": 51,
     "metadata": {},
     "output_type": "execute_result"
    }
   ],
   "source": [
    "s"
   ]
  },
  {
   "cell_type": "code",
   "execution_count": 52,
   "id": "bc49e057-e28d-4c92-8795-2d02eeeeeee1",
   "metadata": {},
   "outputs": [
    {
     "data": {
      "text/plain": [
       "''"
      ]
     },
     "execution_count": 52,
     "metadata": {},
     "output_type": "execute_result"
    }
   ],
   "source": [
    "s[2:7:-1]"
   ]
  },
  {
   "cell_type": "code",
   "execution_count": 53,
   "id": "9e235296-df59-4c2e-8760-d641553d2a6e",
   "metadata": {},
   "outputs": [
    {
     "data": {
      "text/plain": [
       "'pwskills'"
      ]
     },
     "execution_count": 53,
     "metadata": {},
     "output_type": "execute_result"
    }
   ],
   "source": [
    "s"
   ]
  },
  {
   "cell_type": "code",
   "execution_count": 54,
   "id": "70d6d036-2605-4454-9ac7-300cc26b7151",
   "metadata": {},
   "outputs": [
    {
     "data": {
      "text/plain": [
       "''"
      ]
     },
     "execution_count": 54,
     "metadata": {},
     "output_type": "execute_result"
    }
   ],
   "source": [
    "s[8:0]"
   ]
  },
  {
   "cell_type": "code",
   "execution_count": 55,
   "id": "2d3cfbcd-d07f-4fef-94ae-b5d3adb39975",
   "metadata": {},
   "outputs": [
    {
     "data": {
      "text/plain": [
       "'slliksw'"
      ]
     },
     "execution_count": 55,
     "metadata": {},
     "output_type": "execute_result"
    }
   ],
   "source": [
    "s[8:0:-1]"
   ]
  },
  {
   "cell_type": "code",
   "execution_count": 56,
   "id": "2a616d7a-c135-465b-bd7b-46cd71d6974a",
   "metadata": {},
   "outputs": [
    {
     "data": {
      "text/plain": [
       "''"
      ]
     },
     "execution_count": 56,
     "metadata": {},
     "output_type": "execute_result"
    }
   ],
   "source": [
    "s[-2:-8:1]"
   ]
  },
  {
   "cell_type": "code",
   "execution_count": 57,
   "id": "8735e3a3-ff77-4fd5-8672-627de86ea75f",
   "metadata": {},
   "outputs": [
    {
     "data": {
      "text/plain": [
       "'lliksw'"
      ]
     },
     "execution_count": 57,
     "metadata": {},
     "output_type": "execute_result"
    }
   ],
   "source": [
    "s[-2:-8:-1]"
   ]
  },
  {
   "cell_type": "code",
   "execution_count": 58,
   "id": "cba6ac13-01b4-4388-b90d-1d643d8c1e15",
   "metadata": {},
   "outputs": [
    {
     "ename": "IndexError",
     "evalue": "string index out of range",
     "output_type": "error",
     "traceback": [
      "\u001b[0;31m---------------------------------------------------------------------------\u001b[0m",
      "\u001b[0;31mIndexError\u001b[0m                                Traceback (most recent call last)",
      "Cell \u001b[0;32mIn[58], line 1\u001b[0m\n\u001b[0;32m----> 1\u001b[0m \u001b[43ms\u001b[49m\u001b[43m[\u001b[49m\u001b[38;5;241;43m90\u001b[39;49m\u001b[43m]\u001b[49m\n",
      "\u001b[0;31mIndexError\u001b[0m: string index out of range"
     ]
    }
   ],
   "source": [
    "s[90]"
   ]
  },
  {
   "cell_type": "code",
   "execution_count": null,
   "id": "08de12bc-125a-4ff0-9ee9-d081da5db5d2",
   "metadata": {},
   "outputs": [],
   "source": [
    "s[:-90:]"
   ]
  },
  {
   "cell_type": "code",
   "execution_count": null,
   "id": "06618059-38a2-4234-ae2a-ae3e8fd77e14",
   "metadata": {},
   "outputs": [],
   "source": [
    "s[:-90:-1]"
   ]
  },
  {
   "cell_type": "code",
   "execution_count": null,
   "id": "a1c5e339-e9de-40eb-a154-48729c69db64",
   "metadata": {},
   "outputs": [],
   "source": [
    "c=200"
   ]
  },
  {
   "cell_type": "code",
   "execution_count": null,
   "id": "9b2f054b-300f-406a-8cc0-90b81586641c",
   "metadata": {},
   "outputs": [],
   "source": [
    "s1=\"this is my string class\""
   ]
  },
  {
   "cell_type": "code",
   "execution_count": null,
   "id": "d0c3f47a-8637-4484-9097-9683590bb0f9",
   "metadata": {},
   "outputs": [],
   "source": [
    "len(s1)"
   ]
  },
  {
   "cell_type": "code",
   "execution_count": null,
   "id": "99eca953-7b9c-4391-bac6-36458cff39f7",
   "metadata": {},
   "outputs": [],
   "source": [
    "+1"
   ]
  },
  {
   "cell_type": "code",
   "execution_count": 59,
   "id": "1431dfe1-3961-4b84-9cc5-fa571ea73ae6",
   "metadata": {},
   "outputs": [
    {
     "data": {
      "text/plain": [
       "2"
      ]
     },
     "execution_count": 59,
     "metadata": {},
     "output_type": "execute_result"
    }
   ],
   "source": [
    "1+1"
   ]
  },
  {
   "cell_type": "code",
   "execution_count": 60,
   "id": "ac9bf7f6-1d94-45c0-9a9e-d4408865acd3",
   "metadata": {},
   "outputs": [
    {
     "data": {
      "text/plain": [
       "2"
      ]
     },
     "execution_count": 60,
     "metadata": {},
     "output_type": "execute_result"
    }
   ],
   "source": [
    "1+1"
   ]
  },
  {
   "cell_type": "code",
   "execution_count": 61,
   "id": "373b9d77-e489-4f89-96f7-e1a025306a1f",
   "metadata": {},
   "outputs": [
    {
     "ename": "NameError",
     "evalue": "name 's1' is not defined",
     "output_type": "error",
     "traceback": [
      "\u001b[0;31m---------------------------------------------------------------------------\u001b[0m",
      "\u001b[0;31mNameError\u001b[0m                                 Traceback (most recent call last)",
      "Cell \u001b[0;32mIn[61], line 1\u001b[0m\n\u001b[0;32m----> 1\u001b[0m \u001b[43ms1\u001b[49m\n",
      "\u001b[0;31mNameError\u001b[0m: name 's1' is not defined"
     ]
    }
   ],
   "source": [
    "s1"
   ]
  },
  {
   "cell_type": "code",
   "execution_count": null,
   "id": "9a34e4e0-5632-4fa3-bf20-becfa5b54168",
   "metadata": {},
   "outputs": [],
   "source": [
    "s1"
   ]
  },
  {
   "cell_type": "code",
   "execution_count": null,
   "id": "9f4bdcfa-d2a3-4784-b089-a176d296c04a",
   "metadata": {},
   "outputs": [],
   "source": [
    "s1"
   ]
  },
  {
   "cell_type": "code",
   "execution_count": null,
   "id": "79dd6b83-4f8a-4a05-8e95-7b9c5472a576",
   "metadata": {},
   "outputs": [],
   "source": [
    "s1"
   ]
  },
  {
   "cell_type": "code",
   "execution_count": null,
   "id": "580c2e22-4735-438f-ac59-621807c6250b",
   "metadata": {},
   "outputs": [],
   "source": [
    "1+1"
   ]
  },
  {
   "cell_type": "code",
   "execution_count": 62,
   "id": "69d545a5-dc21-4eb8-b554-a71f665d7bdb",
   "metadata": {},
   "outputs": [
    {
     "data": {
      "text/plain": [
       "2"
      ]
     },
     "execution_count": 62,
     "metadata": {},
     "output_type": "execute_result"
    }
   ],
   "source": [
    "1+1"
   ]
  },
  {
   "cell_type": "code",
   "execution_count": 63,
   "id": "de27496b-8a02-4c60-97f0-755a42c3c8ab",
   "metadata": {},
   "outputs": [
    {
     "ename": "NameError",
     "evalue": "name 's1' is not defined",
     "output_type": "error",
     "traceback": [
      "\u001b[0;31m---------------------------------------------------------------------------\u001b[0m",
      "\u001b[0;31mNameError\u001b[0m                                 Traceback (most recent call last)",
      "Cell \u001b[0;32mIn[63], line 1\u001b[0m\n\u001b[0;32m----> 1\u001b[0m \u001b[43ms1\u001b[49m\n",
      "\u001b[0;31mNameError\u001b[0m: name 's1' is not defined"
     ]
    }
   ],
   "source": [
    "s1"
   ]
  },
  {
   "cell_type": "code",
   "execution_count": 64,
   "id": "157f9d65-43ff-46ef-95cc-03f8ba1edfac",
   "metadata": {},
   "outputs": [
    {
     "data": {
      "text/plain": [
       "'pwskills'"
      ]
     },
     "execution_count": 64,
     "metadata": {},
     "output_type": "execute_result"
    }
   ],
   "source": [
    "s"
   ]
  },
  {
   "cell_type": "code",
   "execution_count": 65,
   "id": "d7db510e-0d2d-44c2-8576-4ffb459c7341",
   "metadata": {},
   "outputs": [
    {
     "ename": "NameError",
     "evalue": "name 's1' is not defined",
     "output_type": "error",
     "traceback": [
      "\u001b[0;31m---------------------------------------------------------------------------\u001b[0m",
      "\u001b[0;31mNameError\u001b[0m                                 Traceback (most recent call last)",
      "Cell \u001b[0;32mIn[65], line 1\u001b[0m\n\u001b[0;32m----> 1\u001b[0m \u001b[43ms1\u001b[49m\n",
      "\u001b[0;31mNameError\u001b[0m: name 's1' is not defined"
     ]
    }
   ],
   "source": [
    "s1"
   ]
  },
  {
   "cell_type": "code",
   "execution_count": 66,
   "id": "e97d3b31-eff9-45a3-b618-f29365385e73",
   "metadata": {},
   "outputs": [],
   "source": [
    "s1=\"this is my string class\""
   ]
  },
  {
   "cell_type": "code",
   "execution_count": 67,
   "id": "c2b74e99-6584-4ca0-927b-1c6c573d3a01",
   "metadata": {},
   "outputs": [
    {
     "data": {
      "text/plain": [
       "23"
      ]
     },
     "execution_count": 67,
     "metadata": {},
     "output_type": "execute_result"
    }
   ],
   "source": [
    "len(s1)"
   ]
  },
  {
   "cell_type": "code",
   "execution_count": 68,
   "id": "79f39e79-fe4a-4b92-afe0-d06c58f76dc2",
   "metadata": {},
   "outputs": [
    {
     "data": {
      "text/plain": [
       "-1"
      ]
     },
     "execution_count": 68,
     "metadata": {},
     "output_type": "execute_result"
    }
   ],
   "source": [
    "s1.find(s)"
   ]
  },
  {
   "cell_type": "code",
   "execution_count": 69,
   "id": "81f02e0a-c0f7-4203-8658-4636a7589412",
   "metadata": {},
   "outputs": [
    {
     "data": {
      "text/plain": [
       "2"
      ]
     },
     "execution_count": 69,
     "metadata": {},
     "output_type": "execute_result"
    }
   ],
   "source": [
    "s1.find('i')"
   ]
  },
  {
   "cell_type": "code",
   "execution_count": 70,
   "id": "6c8828cf-920a-4778-9e63-9f2fe75b0972",
   "metadata": {},
   "outputs": [
    {
     "data": {
      "text/plain": [
       "3"
      ]
     },
     "execution_count": 70,
     "metadata": {},
     "output_type": "execute_result"
    }
   ],
   "source": [
    "s1.find('s')"
   ]
  },
  {
   "cell_type": "code",
   "execution_count": 71,
   "id": "8e79dbfe-bfc6-44b0-acf8-2814366a621a",
   "metadata": {},
   "outputs": [
    {
     "data": {
      "text/plain": [
       "2"
      ]
     },
     "execution_count": 71,
     "metadata": {},
     "output_type": "execute_result"
    }
   ],
   "source": [
    "s1.find('is')"
   ]
  },
  {
   "cell_type": "code",
   "execution_count": 72,
   "id": "62b6c8d8-44cb-47ac-851b-35adde33748b",
   "metadata": {},
   "outputs": [
    {
     "data": {
      "text/plain": [
       "5"
      ]
     },
     "execution_count": 72,
     "metadata": {},
     "output_type": "execute_result"
    }
   ],
   "source": [
    "s1.count('s')"
   ]
  },
  {
   "cell_type": "code",
   "execution_count": 73,
   "id": "51ec2059-730d-4129-84fe-261560ff7594",
   "metadata": {},
   "outputs": [
    {
     "data": {
      "text/plain": [
       "0"
      ]
     },
     "execution_count": 73,
     "metadata": {},
     "output_type": "execute_result"
    }
   ],
   "source": [
    "s1.count(\"z\")"
   ]
  },
  {
   "cell_type": "code",
   "execution_count": 75,
   "id": "0834dfb2-2902-4385-aea1-5564a87f5acf",
   "metadata": {},
   "outputs": [
    {
     "data": {
      "text/plain": [
       "'THIS IS MY STRING CLASS'"
      ]
     },
     "execution_count": 75,
     "metadata": {},
     "output_type": "execute_result"
    }
   ],
   "source": [
    "s1.upper()"
   ]
  },
  {
   "cell_type": "code",
   "execution_count": 76,
   "id": "3f38fc90-e946-4fd4-ac81-d2f7413a9d0c",
   "metadata": {},
   "outputs": [
    {
     "data": {
      "text/plain": [
       "'this is my string class'"
      ]
     },
     "execution_count": 76,
     "metadata": {},
     "output_type": "execute_result"
    }
   ],
   "source": [
    "s1"
   ]
  },
  {
   "cell_type": "code",
   "execution_count": 77,
   "id": "88429f19-7616-424d-b561-8ea32177d7ae",
   "metadata": {},
   "outputs": [
    {
     "data": {
      "text/plain": [
       "'This Is My String Class'"
      ]
     },
     "execution_count": 77,
     "metadata": {},
     "output_type": "execute_result"
    }
   ],
   "source": [
    "s1.title()\n"
   ]
  },
  {
   "cell_type": "code",
   "execution_count": 79,
   "id": "bf43aa9e-e101-45ed-9cff-c0169172dee7",
   "metadata": {},
   "outputs": [
    {
     "data": {
      "text/plain": [
       "'This is my string class'"
      ]
     },
     "execution_count": 79,
     "metadata": {},
     "output_type": "execute_result"
    }
   ],
   "source": [
    "s1.capitalize()"
   ]
  },
  {
   "cell_type": "code",
   "execution_count": 80,
   "id": "475d3469-a921-494f-b520-d17366780b4c",
   "metadata": {},
   "outputs": [
    {
     "data": {
      "text/plain": [
       "'pwskills'"
      ]
     },
     "execution_count": 80,
     "metadata": {},
     "output_type": "execute_result"
    }
   ],
   "source": [
    "s"
   ]
  },
  {
   "cell_type": "code",
   "execution_count": 81,
   "id": "ba3ae115-daa4-42b0-af5f-47dac8c7af02",
   "metadata": {},
   "outputs": [
    {
     "ename": "TypeError",
     "evalue": "can only concatenate str (not \"int\") to str",
     "output_type": "error",
     "traceback": [
      "\u001b[0;31m---------------------------------------------------------------------------\u001b[0m",
      "\u001b[0;31mTypeError\u001b[0m                                 Traceback (most recent call last)",
      "Cell \u001b[0;32mIn[81], line 1\u001b[0m\n\u001b[0;32m----> 1\u001b[0m \u001b[43ms\u001b[49m\u001b[38;5;241;43m+\u001b[39;49m\u001b[38;5;241;43m1\u001b[39;49m\n",
      "\u001b[0;31mTypeError\u001b[0m: can only concatenate str (not \"int\") to str"
     ]
    }
   ],
   "source": [
    "s+1"
   ]
  },
  {
   "cell_type": "code",
   "execution_count": 82,
   "id": "dfeffd27-4ac6-4616-89b8-e3db139b96e6",
   "metadata": {},
   "outputs": [
    {
     "data": {
      "text/plain": [
       "'pwskillssufi'"
      ]
     },
     "execution_count": 82,
     "metadata": {},
     "output_type": "execute_result"
    }
   ],
   "source": [
    "s+\"sufi\""
   ]
  },
  {
   "cell_type": "code",
   "execution_count": 83,
   "id": "140697fb-1958-43a9-84b7-2dce87dbb602",
   "metadata": {},
   "outputs": [
    {
     "data": {
      "text/plain": [
       "'pwskills'"
      ]
     },
     "execution_count": 83,
     "metadata": {},
     "output_type": "execute_result"
    }
   ],
   "source": [
    "s"
   ]
  },
  {
   "cell_type": "code",
   "execution_count": 84,
   "id": "d0ecaa8c-bbe8-4564-addb-aa46a0d19e9d",
   "metadata": {},
   "outputs": [
    {
     "data": {
      "text/plain": [
       "'pwskillspwskillspwskills'"
      ]
     },
     "execution_count": 84,
     "metadata": {},
     "output_type": "execute_result"
    }
   ],
   "source": [
    "s*3\n"
   ]
  },
  {
   "cell_type": "code",
   "execution_count": 85,
   "id": "fe8e6698-78e1-4cd5-873c-c83dfbda9294",
   "metadata": {},
   "outputs": [
    {
     "ename": "SyntaxError",
     "evalue": "unterminated string literal (detected at line 1) (1811489030.py, line 1)",
     "output_type": "error",
     "traceback": [
      "\u001b[0;36m  Cell \u001b[0;32mIn[85], line 1\u001b[0;36m\u001b[0m\n\u001b[0;31m    'don't do copy and paste in my class'\u001b[0m\n\u001b[0m                                        ^\u001b[0m\n\u001b[0;31mSyntaxError\u001b[0m\u001b[0;31m:\u001b[0m unterminated string literal (detected at line 1)\n"
     ]
    }
   ],
   "source": [
    "'don't do copy and paste in my class'"
   ]
  },
  {
   "cell_type": "code",
   "execution_count": 86,
   "id": "29333b7b-cff9-4fc4-bd6a-612def970be1",
   "metadata": {},
   "outputs": [
    {
     "data": {
      "text/plain": [
       "\"don't do copy and paste in my class\""
      ]
     },
     "execution_count": 86,
     "metadata": {},
     "output_type": "execute_result"
    }
   ],
   "source": [
    "\"don't do copy and paste in my class\""
   ]
  },
  {
   "cell_type": "code",
   "execution_count": 87,
   "id": "f90177f3-0fd6-4aee-9e8d-da1f592568bf",
   "metadata": {},
   "outputs": [],
   "source": [
    "##this is my first class for programing"
   ]
  },
  {
   "cell_type": "code",
   "execution_count": 88,
   "id": "4b16a567-f150-4c06-a7d7-e0131431a6bb",
   "metadata": {},
   "outputs": [
    {
     "data": {
      "text/plain": [
       "'this is my first class for programing \\ni have learnt variable decleariation,data type,string ,int,bollean,complex number\\ni have seen some examples f string slicing and indexing\\ni have gone trough some of string inbuilt function\\napart from that i am tryng to practice in my system \\nbut some of us in our clas are not execuding code'"
      ]
     },
     "execution_count": 88,
     "metadata": {},
     "output_type": "execute_result"
    }
   ],
   "source": [
    "\"\"\"this is my first class for programing \n",
    "i have learnt variable decleariation,data type,string ,int,bollean,complex number\n",
    "i have seen some examples f string slicing and indexing\n",
    "i have gone trough some of string inbuilt function\n",
    "apart from that i am tryng to practice in my system \n",
    "but some of us in our clas are not execuding code\"\"\""
   ]
  },
  {
   "cell_type": "code",
   "execution_count": null,
   "id": "2ff398a9-cf37-4ff3-8643-7039d6abfa86",
   "metadata": {},
   "outputs": [],
   "source": []
  }
 ],
 "metadata": {
  "kernelspec": {
   "display_name": "Python 3 (ipykernel)",
   "language": "python",
   "name": "python3"
  },
  "language_info": {
   "codemirror_mode": {
    "name": "ipython",
    "version": 3
   },
   "file_extension": ".py",
   "mimetype": "text/x-python",
   "name": "python",
   "nbconvert_exporter": "python",
   "pygments_lexer": "ipython3",
   "version": "3.10.8"
  }
 },
 "nbformat": 4,
 "nbformat_minor": 5
}
