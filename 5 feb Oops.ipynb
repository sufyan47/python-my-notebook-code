{
 "cells": [
  {
   "cell_type": "code",
   "execution_count": 1,
   "id": "75cd974d-6570-4db2-af44-2eea2be01e22",
   "metadata": {},
   "outputs": [],
   "source": [
    "#oops-oops stands for object oriented  programming  stytem"
   ]
  },
  {
   "cell_type": "code",
   "execution_count": 2,
   "id": "0683f34e-50f8-4774-8da5-17009771b2cf",
   "metadata": {},
   "outputs": [],
   "source": [
    "a=1"
   ]
  },
  {
   "cell_type": "code",
   "execution_count": 9,
   "id": "08c7e2a1-ecbc-4b63-810f-5d6e35b297bb",
   "metadata": {},
   "outputs": [
    {
     "name": "stdout",
     "output_type": "stream",
     "text": [
      "<class 'int'>\n"
     ]
    }
   ],
   "source": [
    "print(type(a))"
   ]
  },
  {
   "cell_type": "code",
   "execution_count": 4,
   "id": "b801d040-1a28-4ad6-9613-23359b651ccb",
   "metadata": {},
   "outputs": [
    {
     "name": "stdout",
     "output_type": "stream",
     "text": [
      "<class 'str'>\n"
     ]
    }
   ],
   "source": [
    "print(type(\"pwskills\"))"
   ]
  },
  {
   "cell_type": "code",
   "execution_count": 10,
   "id": "07369a3d-80de-465b-96ee-3d6474e3a825",
   "metadata": {},
   "outputs": [],
   "source": [
    "##class concept in string.\n"
   ]
  },
  {
   "cell_type": "code",
   "execution_count": 11,
   "id": "279fa473-73cc-402f-8b0d-840ec375ae77",
   "metadata": {},
   "outputs": [],
   "source": [
    "##class is nothimg but classifiction of real world entity or a blueprint "
   ]
  },
  {
   "cell_type": "code",
   "execution_count": 12,
   "id": "c0127c4b-2e1e-4952-b863-43052d72b51b",
   "metadata": {},
   "outputs": [],
   "source": [
    "##object is real world entity"
   ]
  },
  {
   "cell_type": "code",
   "execution_count": 13,
   "id": "2ad5a114-8146-478e-a66a-21ffeb964822",
   "metadata": {},
   "outputs": [],
   "source": [
    "##print(type(a)) in this example \"a\" is object "
   ]
  },
  {
   "cell_type": "code",
   "execution_count": 14,
   "id": "8a0ceccf-bfe5-4e98-b322-834923cd7826",
   "metadata": {},
   "outputs": [],
   "source": [
    "## creating class in python"
   ]
  },
  {
   "cell_type": "code",
   "execution_count": 20,
   "id": "43e74d2e-9e4f-4df1-8848-9cc37295e56f",
   "metadata": {},
   "outputs": [],
   "source": [
    "##empty class syntax\n",
    "class test :\n",
    "    pass"
   ]
  },
  {
   "cell_type": "code",
   "execution_count": 21,
   "id": "9f0a7893-00db-4ffe-b703-0596aac1c7a8",
   "metadata": {},
   "outputs": [],
   "source": [
    "#creating variable of class"
   ]
  },
  {
   "cell_type": "code",
   "execution_count": 17,
   "id": "9fb41ec4-fa93-458b-8fe7-3482000063fe",
   "metadata": {},
   "outputs": [],
   "source": [
    "a=test()"
   ]
  },
  {
   "cell_type": "code",
   "execution_count": 18,
   "id": "985bb97d-1a20-4891-8379-445964ba009d",
   "metadata": {},
   "outputs": [
    {
     "data": {
      "text/plain": [
       "__main__.test"
      ]
     },
     "execution_count": 18,
     "metadata": {},
     "output_type": "execute_result"
    }
   ],
   "source": [
    "type(a)"
   ]
  },
  {
   "cell_type": "code",
   "execution_count": 23,
   "id": "3dfdb806-3326-416b-9e50-35bdb1cc349d",
   "metadata": {},
   "outputs": [],
   "source": [
    "##  avbove line  shows type of a as tesrt"
   ]
  },
  {
   "cell_type": "code",
   "execution_count": 24,
   "id": "e9d01c34-08ea-484a-804b-44ce2c1e4eed",
   "metadata": {},
   "outputs": [
    {
     "name": "stdout",
     "output_type": "stream",
     "text": [
      "<class '__main__.test'>\n"
     ]
    }
   ],
   "source": [
    "print(type(a))"
   ]
  },
  {
   "cell_type": "code",
   "execution_count": 25,
   "id": "9190aaa6-bdfb-491f-8a2e-0270112e0011",
   "metadata": {},
   "outputs": [],
   "source": [
    "## creating class pwskills containg method or any function"
   ]
  },
  {
   "cell_type": "code",
   "execution_count": 35,
   "id": "29cb3868-b357-40f2-99d4-fee230a4e71a",
   "metadata": {},
   "outputs": [],
   "source": [
    "class pwskills:\n",
    "    def welcome_msg(self):\n",
    "        print(\"welcome to pwskills\")\n",
    "        "
   ]
  },
  {
   "cell_type": "code",
   "execution_count": 33,
   "id": "370805b8-da23-4fd5-8a08-dbd5012660c4",
   "metadata": {},
   "outputs": [],
   "source": [
    "## in above code when we define func in class we have to self in bracket to  bind func to class"
   ]
  },
  {
   "cell_type": "code",
   "execution_count": 36,
   "id": "044f3393-0102-41dd-80de-2d0b8bc17054",
   "metadata": {},
   "outputs": [],
   "source": [
    "##here rohan is variable of class pwskills\n",
    "rohan=pwskills()"
   ]
  },
  {
   "cell_type": "code",
   "execution_count": 30,
   "id": "e3387bbc-b48e-4b5b-bdf7-7394b0a444eb",
   "metadata": {},
   "outputs": [
    {
     "name": "stdout",
     "output_type": "stream",
     "text": [
      "<class '__main__.pwskills'>\n"
     ]
    }
   ],
   "source": [
    "print(type(rohan))"
   ]
  },
  {
   "cell_type": "code",
   "execution_count": 31,
   "id": "0e45b6b5-0322-4a3a-a8e9-b2939c2862a3",
   "metadata": {},
   "outputs": [
    {
     "ename": "TypeError",
     "evalue": "pwskills.welcome_msg() takes 0 positional arguments but 1 was given",
     "output_type": "error",
     "traceback": [
      "\u001b[0;31m---------------------------------------------------------------------------\u001b[0m",
      "\u001b[0;31mTypeError\u001b[0m                                 Traceback (most recent call last)",
      "Cell \u001b[0;32mIn[31], line 1\u001b[0m\n\u001b[0;32m----> 1\u001b[0m \u001b[43mrohan\u001b[49m\u001b[38;5;241;43m.\u001b[39;49m\u001b[43mwelcome_msg\u001b[49m\u001b[43m(\u001b[49m\u001b[43m)\u001b[49m\n",
      "\u001b[0;31mTypeError\u001b[0m: pwskills.welcome_msg() takes 0 positional arguments but 1 was given"
     ]
    }
   ],
   "source": [
    "rohan.welcome_msg()"
   ]
  },
  {
   "cell_type": "code",
   "execution_count": 37,
   "id": "f239d963-f457-46ac-99e6-55c2d0dcbfad",
   "metadata": {},
   "outputs": [
    {
     "name": "stdout",
     "output_type": "stream",
     "text": [
      "welcome to pwskills\n"
     ]
    }
   ],
   "source": [
    "rohan.welcome_msg()"
   ]
  },
  {
   "cell_type": "code",
   "execution_count": 38,
   "id": "3ea2a102-c442-499d-912b-c23de5ba071d",
   "metadata": {},
   "outputs": [],
   "source": [
    "gaurav=pwskills()"
   ]
  },
  {
   "cell_type": "code",
   "execution_count": 42,
   "id": "12fbb4cc-52cc-4e0e-89c5-ff8726a0fe33",
   "metadata": {},
   "outputs": [
    {
     "name": "stdout",
     "output_type": "stream",
     "text": [
      "welcome to pwskills\n"
     ]
    }
   ],
   "source": [
    "gaurav.welcome_msg()"
   ]
  },
  {
   "cell_type": "code",
   "execution_count": 44,
   "id": "bd40d3a1-3941-4559-a41c-94f1c8c6e6c4",
   "metadata": {},
   "outputs": [],
   "source": [
    "## class to pass specific details of object i.e in thisdetails of students"
   ]
  },
  {
   "cell_type": "code",
   "execution_count": 55,
   "id": "4cf04cc1-f83b-4305-b450-8f605d82a4dc",
   "metadata": {},
   "outputs": [],
   "source": [
    "class pwskills1 :\n",
    "    def __init__(self,phone_number,email_id,student_id):\n",
    "        self.phone_number=phone_number\n",
    "        self.email_id=email_id\n",
    "        self.student_id=student_id\n",
    "    def return_students_details(self):\n",
    "        return self.student_id,self.phone_number,self.email_id\n",
    "        \n",
    "        \n",
    "        \n",
    "        "
   ]
  },
  {
   "cell_type": "code",
   "execution_count": 51,
   "id": "ee01d969-7deb-41b7-8f21-5130b9f04c08",
   "metadata": {},
   "outputs": [],
   "source": [
    "# _init_ is reserved keyword used as constructor in class  and is used to take input"
   ]
  },
  {
   "cell_type": "code",
   "execution_count": 56,
   "id": "7926b687-1e66-4fcc-b882-fcbecef1a6c0",
   "metadata": {},
   "outputs": [
    {
     "ename": "TypeError",
     "evalue": "pwskills1.__init__() missing 3 required positional arguments: 'phone_number', 'email_id', and 'student_id'",
     "output_type": "error",
     "traceback": [
      "\u001b[0;31m---------------------------------------------------------------------------\u001b[0m",
      "\u001b[0;31mTypeError\u001b[0m                                 Traceback (most recent call last)",
      "Cell \u001b[0;32mIn[56], line 1\u001b[0m\n\u001b[0;32m----> 1\u001b[0m rohan\u001b[38;5;241m=\u001b[39m\u001b[43mpwskills1\u001b[49m\u001b[43m(\u001b[49m\u001b[43m)\u001b[49m\n",
      "\u001b[0;31mTypeError\u001b[0m: pwskills1.__init__() missing 3 required positional arguments: 'phone_number', 'email_id', and 'student_id'"
     ]
    }
   ],
   "source": [
    "rohan=pwskills1()"
   ]
  },
  {
   "cell_type": "code",
   "execution_count": 57,
   "id": "282b4f78-85f0-4cc6-84d3-ebba171c02d4",
   "metadata": {},
   "outputs": [],
   "source": [
    "rohan=pwskills1(123456,\"rohan@gmail.com\",101)"
   ]
  },
  {
   "cell_type": "code",
   "execution_count": 58,
   "id": "0d3b9652-f742-48ab-99ba-594866fc123c",
   "metadata": {},
   "outputs": [
    {
     "data": {
      "text/plain": [
       "(101, 123456, 'rohan@gmail.com')"
      ]
     },
     "execution_count": 58,
     "metadata": {},
     "output_type": "execute_result"
    }
   ],
   "source": [
    "rohan.return_students_details()"
   ]
  },
  {
   "cell_type": "code",
   "execution_count": 59,
   "id": "19e4b2f1-3d5d-4e62-9408-10bf62959a03",
   "metadata": {},
   "outputs": [],
   "source": [
    "gaurav=pwskills1(98542121,\"gaurav@gmail.com\",102)"
   ]
  },
  {
   "cell_type": "code",
   "execution_count": 60,
   "id": "47b1d379-e62f-4e96-8313-41eee8adce5c",
   "metadata": {},
   "outputs": [
    {
     "data": {
      "text/plain": [
       "(102, 98542121, 'gaurav@gmail.com')"
      ]
     },
     "execution_count": 60,
     "metadata": {},
     "output_type": "execute_result"
    }
   ],
   "source": [
    "gaurav.return_students_details()"
   ]
  },
  {
   "cell_type": "code",
   "execution_count": 61,
   "id": "17a7dd8b-08ac-4f36-8793-a2586e771566",
   "metadata": {},
   "outputs": [
    {
     "data": {
      "text/plain": [
       "'rohan@gmail.com'"
      ]
     },
     "execution_count": 61,
     "metadata": {},
     "output_type": "execute_result"
    }
   ],
   "source": [
    "rohan.email_id"
   ]
  },
  {
   "cell_type": "code",
   "execution_count": 62,
   "id": "bd8fcc6b-0917-4761-b68b-33ec1f9a52da",
   "metadata": {},
   "outputs": [
    {
     "data": {
      "text/plain": [
       "123456"
      ]
     },
     "execution_count": 62,
     "metadata": {},
     "output_type": "execute_result"
    }
   ],
   "source": [
    "rohan.phone_number"
   ]
  },
  {
   "cell_type": "code",
   "execution_count": 63,
   "id": "e11c9d27-29ce-4abf-88eb-4c3aeb924dc2",
   "metadata": {},
   "outputs": [],
   "source": [
    "#creating a new class fpr better ubderstanding concept"
   ]
  },
  {
   "cell_type": "code",
   "execution_count": 111,
   "id": "34768e60-c3b3-4ffe-916f-2fec06b96a69",
   "metadata": {},
   "outputs": [],
   "source": [
    "class pwskills2 :\n",
    "    def __init__(self,phone_number,email_id,student_id):\n",
    "        self.phone_number1=phone_number\n",
    "        self.email_id1=email_id\n",
    "        self.student_id1=student_id\n",
    "    def return_students_details(self):\n",
    "        return self.student_id,self.phone_number,self.email_id\n",
    "        "
   ]
  },
  {
   "cell_type": "code",
   "execution_count": 112,
   "id": "af00022d-df5f-495e-be26-305415b5e4c6",
   "metadata": {},
   "outputs": [],
   "source": [
    "sudh=pwskills2(9954544,\"sudh@gmail.com\",102)"
   ]
  },
  {
   "cell_type": "code",
   "execution_count": 114,
   "id": "b6511a23-2fe1-4837-bc4f-f3264536ee64",
   "metadata": {},
   "outputs": [
    {
     "ename": "AttributeError",
     "evalue": "'pwskills2' object has no attribute 'phone_number'",
     "output_type": "error",
     "traceback": [
      "\u001b[0;31m---------------------------------------------------------------------------\u001b[0m",
      "\u001b[0;31mAttributeError\u001b[0m                            Traceback (most recent call last)",
      "Cell \u001b[0;32mIn[114], line 1\u001b[0m\n\u001b[0;32m----> 1\u001b[0m \u001b[43msudh\u001b[49m\u001b[38;5;241;43m.\u001b[39;49m\u001b[43mphone_number\u001b[49m\n",
      "\u001b[0;31mAttributeError\u001b[0m: 'pwskills2' object has no attribute 'phone_number'"
     ]
    }
   ],
   "source": [
    "sudh.phone_number"
   ]
  },
  {
   "cell_type": "code",
   "execution_count": 115,
   "id": "30824e7d-9077-45e6-92ab-e7d644e99851",
   "metadata": {},
   "outputs": [
    {
     "data": {
      "text/plain": [
       "9954544"
      ]
     },
     "execution_count": 115,
     "metadata": {},
     "output_type": "execute_result"
    }
   ],
   "source": [
    "sudh.phone_number1"
   ]
  },
  {
   "cell_type": "code",
   "execution_count": 116,
   "id": "82d886d1-c6f3-4a20-94df-72de2006600d",
   "metadata": {},
   "outputs": [],
   "source": [
    "## class ko sirf self. k sath jo data available hai wo hi samaj aata.object call karte time bhi ye data hi call karna padta"
   ]
  },
  {
   "cell_type": "code",
   "execution_count": 117,
   "id": "513c623b-4bdd-4093-8b0f-2d61c43bf0ef",
   "metadata": {},
   "outputs": [
    {
     "data": {
      "text/plain": [
       "<bound method pwskills2.return_students_details of <__main__.pwskills2 object at 0x7f6aa0333910>>"
      ]
     },
     "execution_count": 117,
     "metadata": {},
     "output_type": "execute_result"
    }
   ],
   "source": [
    "sudh.return_students_details"
   ]
  },
  {
   "cell_type": "code",
   "execution_count": 118,
   "id": "6fd21364-f07e-4d4d-985c-bd19bb91ef7e",
   "metadata": {},
   "outputs": [],
   "source": [
    "class pwskills2 :\n",
    "    def __init__(self,phone_number,email_id,student_id):\n",
    "        self.phone_number1=phone_number\n",
    "        self.email_id1=email_id\n",
    "        self.student_id1=student_id\n",
    "    def return_students_details(self):\n",
    "        return self.student_id1,self.phone_number1,self.email_id1"
   ]
  },
  {
   "cell_type": "code",
   "execution_count": 121,
   "id": "eaf865d6-c716-471f-b8c6-d5223866622c",
   "metadata": {},
   "outputs": [
    {
     "data": {
      "text/plain": [
       "<bound method pwskills2.return_students_details of <__main__.pwskills2 object at 0x7f6aa0333910>>"
      ]
     },
     "execution_count": 121,
     "metadata": {},
     "output_type": "execute_result"
    }
   ],
   "source": [
    "sudh.return_students_details"
   ]
  },
  {
   "cell_type": "code",
   "execution_count": 122,
   "id": "aa2844c1-faff-485c-bcee-8a960cca4bc8",
   "metadata": {},
   "outputs": [
    {
     "data": {
      "text/plain": [
       "'sudh@gmail.com'"
      ]
     },
     "execution_count": 122,
     "metadata": {},
     "output_type": "execute_result"
    }
   ],
   "source": [
    "sudh.email_id1"
   ]
  },
  {
   "cell_type": "code",
   "execution_count": 124,
   "id": "a6b4c306-0768-4e60-a8a4-b1f7e8488e8e",
   "metadata": {},
   "outputs": [
    {
     "ename": "AttributeError",
     "evalue": "'pwskills2' object has no attribute 'student_id'",
     "output_type": "error",
     "traceback": [
      "\u001b[0;31m---------------------------------------------------------------------------\u001b[0m",
      "\u001b[0;31mAttributeError\u001b[0m                            Traceback (most recent call last)",
      "Cell \u001b[0;32mIn[124], line 1\u001b[0m\n\u001b[0;32m----> 1\u001b[0m \u001b[43msudh\u001b[49m\u001b[38;5;241;43m.\u001b[39;49m\u001b[43mreturn_students_details\u001b[49m\u001b[43m(\u001b[49m\u001b[43m)\u001b[49m\n",
      "Cell \u001b[0;32mIn[111], line 7\u001b[0m, in \u001b[0;36mpwskills2.return_students_details\u001b[0;34m(self)\u001b[0m\n\u001b[1;32m      6\u001b[0m \u001b[38;5;28;01mdef\u001b[39;00m \u001b[38;5;21mreturn_students_details\u001b[39m(\u001b[38;5;28mself\u001b[39m):\n\u001b[0;32m----> 7\u001b[0m     \u001b[38;5;28;01mreturn\u001b[39;00m \u001b[38;5;28;43mself\u001b[39;49m\u001b[38;5;241;43m.\u001b[39;49m\u001b[43mstudent_id\u001b[49m,\u001b[38;5;28mself\u001b[39m\u001b[38;5;241m.\u001b[39mphone_number,\u001b[38;5;28mself\u001b[39m\u001b[38;5;241m.\u001b[39memail_id\n",
      "\u001b[0;31mAttributeError\u001b[0m: 'pwskills2' object has no attribute 'student_id'"
     ]
    }
   ],
   "source": [
    "sudh.return_students_details()"
   ]
  },
  {
   "cell_type": "code",
   "execution_count": 129,
   "id": "c07c0ddf-31df-44cc-901f-13428aa5d845",
   "metadata": {},
   "outputs": [],
   "source": [
    "## above error is shown becoz we have to again pass the variable"
   ]
  },
  {
   "cell_type": "code",
   "execution_count": 125,
   "id": "fdcdcef3-a085-487a-8388-e26a2eee35a5",
   "metadata": {},
   "outputs": [],
   "source": [
    "class pwskills2 :\n",
    "    def __init__(self,phone_number,email_id,student_id):\n",
    "        self.phone_number1=phone_number\n",
    "        self.email_id1=email_id\n",
    "        self.student_id1=student_id\n",
    "    def return_students_details(self):\n",
    "        return self.student_id1,self.phone_number1,self.email_id1"
   ]
  },
  {
   "cell_type": "code",
   "execution_count": null,
   "id": "8b0bedef-b61f-41b0-907f-a459c5d7bf3e",
   "metadata": {},
   "outputs": [],
   "source": [
    "sudh=pwskills2(9954544,\"sudh@gmail.com\",102)"
   ]
  },
  {
   "cell_type": "code",
   "execution_count": 128,
   "id": "1bde1e87-e774-4ff9-8254-dff8c7785ca4",
   "metadata": {},
   "outputs": [
    {
     "data": {
      "text/plain": [
       "(102, 9954544, 'sudh@gmail.com')"
      ]
     },
     "execution_count": 128,
     "metadata": {},
     "output_type": "execute_result"
    }
   ],
   "source": [
    "sudh.return_students_details()"
   ]
  },
  {
   "cell_type": "code",
   "execution_count": 136,
   "id": "03059412-20d8-4926-ae8a-c250210b0148",
   "metadata": {},
   "outputs": [],
   "source": [
    "## self k  jagah kuch bhi likh sakte.self reserved keyword nahi hai kuch bhi starting pointer de sakte\n"
   ]
  },
  {
   "cell_type": "code",
   "execution_count": 137,
   "id": "de95b8fe-6ef5-4277-a34a-fd81ce4a00dc",
   "metadata": {},
   "outputs": [],
   "source": [
    "class pwskills2 :\n",
    "    def __init__(sudh,phone_number,email_id,student_id):\n",
    "        sudh.phone_number1=phone_number\n",
    "        sudh.email_id1=email_id\n",
    "        sudh.student_id1=student_id\n",
    "    def return_students_details(sudh):\n",
    "        return sudh.student_id1,sudh.phone_number1,sudh.email_id1"
   ]
  },
  {
   "cell_type": "code",
   "execution_count": 138,
   "id": "700e3773-6013-460c-acf4-d71768c2680b",
   "metadata": {},
   "outputs": [],
   "source": [
    "rohan=pwskills2(9995545,\"rohan@gmail.com\",346)"
   ]
  },
  {
   "cell_type": "code",
   "execution_count": 139,
   "id": "ce68993f-4f32-46c3-b2dc-b0b90885aba6",
   "metadata": {},
   "outputs": [
    {
     "data": {
      "text/plain": [
       "9995545"
      ]
     },
     "execution_count": 139,
     "metadata": {},
     "output_type": "execute_result"
    }
   ],
   "source": [
    "rohan.phone_number1\n"
   ]
  },
  {
   "cell_type": "code",
   "execution_count": 135,
   "id": "b6c66e0f-dd47-4217-9208-69df145c30e6",
   "metadata": {},
   "outputs": [
    {
     "data": {
      "text/plain": [
       "(346, 9995545, 'rohan@gmail.com')"
      ]
     },
     "execution_count": 140,
     "metadata": {},
     "output_type": "execute_result"
    }
   ],
   "source": [
    "rohan.return_students_details()"
   ]
  },
  {
   "cell_type": "code",
   "execution_count": null,
   "id": "ca647a10-a7f3-4409-b0c1-3c257a02a4b4",
   "metadata": {},
   "outputs": [],
   "source": []
  }
 ],
 "metadata": {
  "kernelspec": {
   "display_name": "Python 3 (ipykernel)",
   "language": "python",
   "name": "python3"
  },
  "language_info": {
   "codemirror_mode": {
    "name": "ipython",
    "version": 3
   },
   "file_extension": ".py",
   "mimetype": "text/x-python",
   "name": "python",
   "nbconvert_exporter": "python",
   "pygments_lexer": "ipython3",
   "version": "3.10.8"
  }
 },
 "nbformat": 4,
 "nbformat_minor": 5
}
