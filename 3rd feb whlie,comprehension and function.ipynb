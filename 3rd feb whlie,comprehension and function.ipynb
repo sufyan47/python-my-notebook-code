{
 "cells": [
  {
   "cell_type": "code",
   "execution_count": null,
   "id": "068a2fcd-da39-4099-b381-841f2e6ef2d8",
   "metadata": {},
   "outputs": [],
   "source": [
    "##while loop "
   ]
  },
  {
   "cell_type": "code",
   "execution_count": 2,
   "id": "ef3bf7e0-0478-4bd6-a103-e337f4a19189",
   "metadata": {},
   "outputs": [
    {
     "name": "stdout",
     "output_type": "stream",
     "text": [
      "1\n",
      "2\n",
      "3\n",
      "4\n",
      "5\n",
      "6\n",
      "7\n",
      "8\n",
      "9\n",
      "10\n"
     ]
    }
   ],
   "source": [
    "a=1\n",
    "while a <=10:\n",
    "    print(a)\n",
    "    a=a+1\n",
    "    "
   ]
  },
  {
   "cell_type": "code",
   "execution_count": 3,
   "id": "f88757d5-875d-4458-8f89-24807e450dfb",
   "metadata": {},
   "outputs": [],
   "source": [
    "#sum up the number till some point"
   ]
  },
  {
   "cell_type": "code",
   "execution_count": 4,
   "id": "66d6155d-1830-4b62-8ecc-0ec0931e431f",
   "metadata": {},
   "outputs": [
    {
     "name": "stdin",
     "output_type": "stream",
     "text": [
      "enter your limit 5\n"
     ]
    },
    {
     "data": {
      "text/plain": [
       "15"
      ]
     },
     "execution_count": 4,
     "metadata": {},
     "output_type": "execute_result"
    }
   ],
   "source": [
    "n=int(input(\"enter your limit\"))\n",
    "starting_point=0\n",
    "counter=1\n",
    "while counter<=n:\n",
    "    starting_point=starting_point+counter\n",
    "    counter=counter+1\n",
    "starting_point    \n",
    "\n",
    "    \n"
   ]
  },
  {
   "cell_type": "code",
   "execution_count": 5,
   "id": "e8d472e7-9319-4c46-8631-448adf2707f9",
   "metadata": {},
   "outputs": [],
   "source": [
    "## factorial of number\n"
   ]
  },
  {
   "cell_type": "code",
   "execution_count": 6,
   "id": "93bcaba1-36e9-4920-9dd2-39ae5b78aff9",
   "metadata": {},
   "outputs": [
    {
     "name": "stdin",
     "output_type": "stream",
     "text": [
      "enter your number 5\n"
     ]
    },
    {
     "data": {
      "text/plain": [
       "120"
      ]
     },
     "execution_count": 6,
     "metadata": {},
     "output_type": "execute_result"
    }
   ],
   "source": [
    "number=int(input(\"enter your number\"))\n",
    "factorial=1\n",
    "while number>0:\n",
    "    factorial=factorial*number\n",
    "    number=number-1\n",
    "factorial\n"
   ]
  },
  {
   "cell_type": "code",
   "execution_count": 8,
   "id": "11411361-88fd-4cc8-9285-bdd05fd65f63",
   "metadata": {},
   "outputs": [],
   "source": [
    "#fibonacci series\n",
    "#bibonaci series means the last no must be sum of previous two numbwrs"
   ]
  },
  {
   "cell_type": "code",
   "execution_count": 17,
   "id": "a187ec06-ee59-460b-8022-a55906109205",
   "metadata": {},
   "outputs": [
    {
     "name": "stdin",
     "output_type": "stream",
     "text": [
      "enter the numbers of elements you are loooking for 5\n"
     ]
    },
    {
     "name": "stdout",
     "output_type": "stream",
     "text": [
      "0\n",
      "1\n",
      "1\n",
      "2\n",
      "3\n"
     ]
    }
   ],
   "source": [
    "number=int(input(\"enter the numbers of elements you are loooking for\"))\n",
    "a,b=0,1\n",
    "counter=0\n",
    "while counter<number:\n",
    "    print(a)\n",
    "    c=a+b\n",
    "    a=b\n",
    "    b=c\n",
    "    counter=counter+1\n",
    "    "
   ]
  },
  {
   "cell_type": "code",
   "execution_count": 18,
   "id": "3c08666f-3428-4708-a1ba-ee30d602edc2",
   "metadata": {},
   "outputs": [],
   "source": [
    "#fibonacci series using for loop\n"
   ]
  },
  {
   "cell_type": "code",
   "execution_count": 21,
   "id": "b34c5401-7e27-4306-8ccd-f6a632779441",
   "metadata": {},
   "outputs": [
    {
     "name": "stdout",
     "output_type": "stream",
     "text": [
      "0\n",
      "1\n",
      "1\n",
      "2\n",
      "3\n",
      "5\n",
      "8\n",
      "13\n",
      "21\n",
      "34\n"
     ]
    }
   ],
   "source": [
    "a,b=0,1\n",
    "for i in range(10):\n",
    "     print(a)\n",
    "     c=a+b\n",
    "     a=b\n",
    "     b=c\n",
    "    "
   ]
  },
  {
   "cell_type": "code",
   "execution_count": 22,
   "id": "4d335262-a680-45be-88fa-5786b894d172",
   "metadata": {},
   "outputs": [],
   "source": [
    "s=\"sudh\"\n"
   ]
  },
  {
   "cell_type": "code",
   "execution_count": 23,
   "id": "0ad17573-9485-4443-ab02-0d75bf870e69",
   "metadata": {},
   "outputs": [
    {
     "data": {
      "text/plain": [
       "'hdus'"
      ]
     },
     "execution_count": 23,
     "metadata": {},
     "output_type": "execute_result"
    }
   ],
   "source": [
    "s[::-1]"
   ]
  },
  {
   "cell_type": "code",
   "execution_count": 25,
   "id": "211681e3-f033-427a-98ec-8933c28fd0c2",
   "metadata": {},
   "outputs": [],
   "source": [
    "# reverse string using while loop"
   ]
  },
  {
   "cell_type": "code",
   "execution_count": 28,
   "id": "68545539-9c10-4fb8-9ae1-58f5c267fe9f",
   "metadata": {},
   "outputs": [
    {
     "name": "stdin",
     "output_type": "stream",
     "text": [
      "enter your string for reversal sudh\n"
     ]
    },
    {
     "name": "stdout",
     "output_type": "stream",
     "text": [
      "hdus\n"
     ]
    }
   ],
   "source": [
    "word=input(\"enter your string for reversal\")\n",
    "reverse=\"\"\n",
    "length=len(word)\n",
    "while length>0:\n",
    "    reverse=reverse+word[length-1]\n",
    "    length=length-1\n",
    "print(reverse)"
   ]
  },
  {
   "cell_type": "code",
   "execution_count": 29,
   "id": "0aba172b-afb9-4e42-993a-b1e106d1fac2",
   "metadata": {},
   "outputs": [],
   "source": [
    "# reverse string using for loop"
   ]
  },
  {
   "cell_type": "code",
   "execution_count": 30,
   "id": "9c4fa763-c75a-428f-b1b9-b5141e9d2df7",
   "metadata": {},
   "outputs": [
    {
     "name": "stdin",
     "output_type": "stream",
     "text": [
      "enter your string for reversal sufyan\n"
     ]
    },
    {
     "name": "stdout",
     "output_type": "stream",
     "text": [
      "nayfus\n"
     ]
    }
   ],
   "source": [
    "word=input(\"enter your string for reversal\")\n",
    "reverse=\"\"\n",
    "length=len(word)\n",
    "for i in word:\n",
    "    reverse=reverse+word[length-1]\n",
    "    length=length-1\n",
    "print(reverse)\n",
    "    "
   ]
  },
  {
   "cell_type": "code",
   "execution_count": 31,
   "id": "142f5fa2-309e-4e18-99ab-1d510d13a2a0",
   "metadata": {},
   "outputs": [],
   "source": [
    "#print tables of numbers"
   ]
  },
  {
   "cell_type": "code",
   "execution_count": 1,
   "id": "9dfadaac-225f-44a8-8ccb-4e2c78f28ae6",
   "metadata": {},
   "outputs": [
    {
     "name": "stdin",
     "output_type": "stream",
     "text": [
      "enter your number 15\n"
     ]
    },
    {
     "name": "stdout",
     "output_type": "stream",
     "text": [
      "15 * 1 = 15\n",
      "15 * 2 = 30\n",
      "15 * 3 = 45\n",
      "15 * 4 = 60\n",
      "15 * 5 = 75\n",
      "15 * 6 = 90\n",
      "15 * 7 = 105\n",
      "15 * 8 = 120\n",
      "15 * 9 = 135\n",
      "15 * 10 = 150\n"
     ]
    }
   ],
   "source": [
    "n=int(input(\"enter your number\"))\n",
    "i=1\n",
    "while i<=10:\n",
    "    result=n*i\n",
    "    print(n,\"*\",i,\"=\",result)\n",
    "    i=i+1\n",
    "    \n",
    "    "
   ]
  },
  {
   "cell_type": "code",
   "execution_count": 2,
   "id": "78bd0fec-90cc-4f63-8a55-ed98c32dba34",
   "metadata": {},
   "outputs": [],
   "source": [
    "##while else"
   ]
  },
  {
   "cell_type": "code",
   "execution_count": 4,
   "id": "ade42ead-107b-4f73-8fa6-4f4468cb9f49",
   "metadata": {},
   "outputs": [
    {
     "name": "stdout",
     "output_type": "stream",
     "text": [
      "1\n",
      "2\n",
      "3\n",
      "4\n",
      " this will be executed when while loop is completed \n"
     ]
    }
   ],
   "source": [
    "n=5\n",
    "i=1\n",
    "while i<n:\n",
    "    print(i)\n",
    "    i=i+1\n",
    "else:\n",
    "    print(' this will be executed when while loop is completed ')\n",
    "    \n"
   ]
  },
  {
   "cell_type": "code",
   "execution_count": 5,
   "id": "14d2d860-086f-4b0c-af37-af91f4a3d7bc",
   "metadata": {},
   "outputs": [
    {
     "name": "stdout",
     "output_type": "stream",
     "text": [
      "1\n",
      "2\n",
      "3\n"
     ]
    }
   ],
   "source": [
    "n=5\n",
    "i=1\n",
    "while i<n:\n",
    "    print(i)\n",
    "    if i==3:\n",
    "        break\n",
    "    i=i+1\n",
    "    \n",
    "else:\n",
    "    print(' this will be executed when while loop is completed ')\n",
    "    \n"
   ]
  },
  {
   "cell_type": "code",
   "execution_count": null,
   "id": "ea86fc39-1785-4cba-80c4-67b2a36ec31b",
   "metadata": {},
   "outputs": [],
   "source": [
    "#comprehension"
   ]
  },
  {
   "cell_type": "code",
   "execution_count": 8,
   "id": "22869434-26bb-447e-ac6b-23806e215d8f",
   "metadata": {
    "tags": []
   },
   "outputs": [
    {
     "data": {
      "text/plain": [
       "[1, 4, 9, 16, 2025, 25]"
      ]
     },
     "execution_count": 8,
     "metadata": {},
     "output_type": "execute_result"
    }
   ],
   "source": [
    "l=[1,2,3,4,45,5]\n",
    "l1=[]\n",
    "for i in l:\n",
    "    l1.append(i**2)\n",
    "l1"
   ]
  },
  {
   "cell_type": "code",
   "execution_count": 9,
   "id": "2d4de098-664d-44c9-a9de-6bbda0a7032d",
   "metadata": {},
   "outputs": [],
   "source": [
    "##how to write above square of number using comprehension"
   ]
  },
  {
   "cell_type": "code",
   "execution_count": 10,
   "id": "8e5df86e-96d0-494c-91ba-afcf04fd8e12",
   "metadata": {},
   "outputs": [
    {
     "data": {
      "text/plain": [
       "[1, 4, 9, 16, 2025, 25]"
      ]
     },
     "execution_count": 10,
     "metadata": {},
     "output_type": "execute_result"
    }
   ],
   "source": [
    "[i**2 for i in l]"
   ]
  },
  {
   "cell_type": "code",
   "execution_count": 22,
   "id": "5e809dd3-888f-4a00-9a68-ac5babe445be",
   "metadata": {},
   "outputs": [],
   "source": [
    "##how to write above lisf  of even number using comprehension"
   ]
  },
  {
   "cell_type": "code",
   "execution_count": 17,
   "id": "c3948c01-ada9-4a21-bb2e-30813a6bf050",
   "metadata": {},
   "outputs": [
    {
     "data": {
      "text/plain": [
       "[2, 4]"
      ]
     },
     "execution_count": 17,
     "metadata": {},
     "output_type": "execute_result"
    }
   ],
   "source": [
    "[ i for i in l if i %2==0]"
   ]
  },
  {
   "cell_type": "code",
   "execution_count": 18,
   "id": "a3778909-efaa-4a8d-94d7-e428745b6b3f",
   "metadata": {},
   "outputs": [],
   "source": [
    "l1=[\"sudh\",\"pwskills\",\"kumar\",\"datascience\"]"
   ]
  },
  {
   "cell_type": "code",
   "execution_count": null,
   "id": "70760f31-8933-4c6d-9c47-752b47e686f6",
   "metadata": {},
   "outputs": [],
   "source": [
    "##how to convert list of string in uppercase using comprehension"
   ]
  },
  {
   "cell_type": "code",
   "execution_count": 23,
   "id": "fdc3ad67-f4d4-4101-89a3-eb6431a2adbc",
   "metadata": {},
   "outputs": [
    {
     "data": {
      "text/plain": [
       "['SUDH', 'PWSKILLS', 'KUMAR', 'DATASCIENCE']"
      ]
     },
     "execution_count": 23,
     "metadata": {},
     "output_type": "execute_result"
    }
   ],
   "source": [
    "[i.upper() for i in l1]"
   ]
  },
  {
   "cell_type": "code",
   "execution_count": 24,
   "id": "d99c1f60-ef64-4157-9700-513fea89b11e",
   "metadata": {},
   "outputs": [],
   "source": [
    "## tuple comprehension"
   ]
  },
  {
   "cell_type": "code",
   "execution_count": null,
   "id": "fe5023a9-9d8c-450b-98d9-e14f70850720",
   "metadata": {},
   "outputs": [
    {
     "data": {
      "text/plain": [
       "[1, 4, 9, 16, 2025, 25]"
      ]
     },
     "execution_count": 27,
     "metadata": {},
     "output_type": "execute_result"
    }
   ],
   "source": [
    "list(i**2for i in l)"
   ]
  },
  {
   "cell_type": "code",
   "execution_count": 30,
   "id": "b94f097d-004c-4590-a2d2-4bb68eb99768",
   "metadata": {},
   "outputs": [],
   "source": [
    "##set comprehension\n",
    "##calculate values square in aset"
   ]
  },
  {
   "cell_type": "code",
   "execution_count": 31,
   "id": "32611285-1121-4c54-86de-cb125add7ad8",
   "metadata": {},
   "outputs": [],
   "source": [
    "\n",
    "d={\"key1\":1,\"key2\":2,\"key3\":3,\"key4\":4}"
   ]
  },
  {
   "cell_type": "code",
   "execution_count": 32,
   "id": "75c8874d-5deb-4575-8a99-5a6760800286",
   "metadata": {},
   "outputs": [
    {
     "data": {
      "text/plain": [
       "{'key1': 1, 'key2': 4, 'key3': 9, 'key4': 16}"
      ]
     },
     "execution_count": 32,
     "metadata": {},
     "output_type": "execute_result"
    }
   ],
   "source": [
    "{k:v**2 for k,v in d.items()}"
   ]
  },
  {
   "cell_type": "code",
   "execution_count": 34,
   "id": "ac01622e-1034-46d6-aee6-8fc86ff97add",
   "metadata": {},
   "outputs": [
    {
     "data": {
      "text/plain": [
       "{'key2': 2, 'key3': 3, 'key4': 4}"
      ]
     },
     "execution_count": 34,
     "metadata": {},
     "output_type": "execute_result"
    }
   ],
   "source": [
    "##code to print only keyvalue pair those value is grater than 1\n",
    "{k:v for k,v in d.items() if v>1}"
   ]
  },
  {
   "cell_type": "code",
   "execution_count": 35,
   "id": "28b47236-e565-48cc-9457-3ea2d6ceb61b",
   "metadata": {},
   "outputs": [],
   "source": [
    "##functions \n",
    "##function is used to define a function"
   ]
  },
  {
   "cell_type": "code",
   "execution_count": 36,
   "id": "581f1909-e0e3-4330-bee7-87333c6e14bf",
   "metadata": {},
   "outputs": [],
   "source": [
    "def test():\n",
    "    pass"
   ]
  },
  {
   "cell_type": "code",
   "execution_count": 38,
   "id": "9a9d12d9-9f1e-49e6-a1f0-45a1c5c790d5",
   "metadata": {},
   "outputs": [],
   "source": [
    "def test1():\n",
    "    print(\"this is very first function\")"
   ]
  },
  {
   "cell_type": "code",
   "execution_count": 39,
   "id": "7f3b5120-6c68-48f9-be79-7f5afae27aa3",
   "metadata": {},
   "outputs": [
    {
     "name": "stdout",
     "output_type": "stream",
     "text": [
      "this is very first function\n"
     ]
    }
   ],
   "source": [
    "test1()"
   ]
  },
  {
   "cell_type": "code",
   "execution_count": 40,
   "id": "9392b1cb-5407-4c43-83ce-a4f53c2d4b0a",
   "metadata": {},
   "outputs": [
    {
     "ename": "TypeError",
     "evalue": "test() takes 0 positional arguments but 1 was given",
     "output_type": "error",
     "traceback": [
      "\u001b[0;31m---------------------------------------------------------------------------\u001b[0m",
      "\u001b[0;31mTypeError\u001b[0m                                 Traceback (most recent call last)",
      "Cell \u001b[0;32mIn[40], line 1\u001b[0m\n\u001b[0;32m----> 1\u001b[0m \u001b[43mtest\u001b[49m\u001b[43m(\u001b[49m\u001b[38;5;241;43m1\u001b[39;49m\u001b[43m)\u001b[49m\u001b[38;5;241m+\u001b[39m\u001b[38;5;124m\"\u001b[39m\u001b[38;5;124msudh\u001b[39m\u001b[38;5;124m\"\u001b[39m\n",
      "\u001b[0;31mTypeError\u001b[0m: test() takes 0 positional arguments but 1 was given"
     ]
    }
   ],
   "source": [
    "test(1)+\"sudh\""
   ]
  },
  {
   "cell_type": "code",
   "execution_count": 41,
   "id": "53a1c0af-ac83-4677-9f62-d2682f221521",
   "metadata": {},
   "outputs": [],
   "source": [
    "def test2():\n",
    "    return\"this is my very first return\""
   ]
  },
  {
   "cell_type": "code",
   "execution_count": 42,
   "id": "91bae1b0-37a6-4041-b0f2-0767db4a31de",
   "metadata": {},
   "outputs": [
    {
     "data": {
      "text/plain": [
       "'this is my very first return'"
      ]
     },
     "execution_count": 42,
     "metadata": {},
     "output_type": "execute_result"
    }
   ],
   "source": [
    "test2()"
   ]
  },
  {
   "cell_type": "code",
   "execution_count": 47,
   "id": "1db91293-df20-4f35-a87c-aa90ec4c53fb",
   "metadata": {},
   "outputs": [
    {
     "data": {
      "text/plain": [
       "'this is my very first returnsudh'"
      ]
     },
     "execution_count": 47,
     "metadata": {},
     "output_type": "execute_result"
    }
   ],
   "source": [
    "test2()+  \"sudh\""
   ]
  },
  {
   "cell_type": "code",
   "execution_count": 48,
   "id": "85191166-5c27-4cfe-9389-5b8a5658def7",
   "metadata": {},
   "outputs": [],
   "source": [
    "def test3():\n",
    "    return \"sudh\",23,345.56,[1,2,3,4]"
   ]
  },
  {
   "cell_type": "code",
   "execution_count": 49,
   "id": "77ddaee4-9bc0-41ce-8abd-87ebbb417493",
   "metadata": {},
   "outputs": [
    {
     "data": {
      "text/plain": [
       "('sudh', 23, 345.56, [1, 2, 3, 4])"
      ]
     },
     "execution_count": 49,
     "metadata": {},
     "output_type": "execute_result"
    }
   ],
   "source": [
    "test3()"
   ]
  },
  {
   "cell_type": "code",
   "execution_count": 50,
   "id": "adf0d26f-3eb1-4c01-b87e-c4b7c0a2a704",
   "metadata": {},
   "outputs": [],
   "source": [
    "a,b,c,d=test3()"
   ]
  },
  {
   "cell_type": "code",
   "execution_count": 51,
   "id": "be23abda-61c9-464d-bba5-6a4f6769b3e3",
   "metadata": {},
   "outputs": [
    {
     "data": {
      "text/plain": [
       "'sudh'"
      ]
     },
     "execution_count": 51,
     "metadata": {},
     "output_type": "execute_result"
    }
   ],
   "source": [
    "a\n"
   ]
  },
  {
   "cell_type": "code",
   "execution_count": 52,
   "id": "0edc0088-35d5-4e04-b5b0-0e4d39babe80",
   "metadata": {},
   "outputs": [
    {
     "data": {
      "text/plain": [
       "23"
      ]
     },
     "execution_count": 52,
     "metadata": {},
     "output_type": "execute_result"
    }
   ],
   "source": [
    "b"
   ]
  },
  {
   "cell_type": "code",
   "execution_count": 53,
   "id": "6c1391c7-41b7-45c9-ac17-24d0488c3a0e",
   "metadata": {},
   "outputs": [
    {
     "data": {
      "text/plain": [
       "345.56"
      ]
     },
     "execution_count": 53,
     "metadata": {},
     "output_type": "execute_result"
    }
   ],
   "source": [
    "c"
   ]
  },
  {
   "cell_type": "code",
   "execution_count": 54,
   "id": "01014c29-dc14-44e1-a4bb-2aed3e1a9fa6",
   "metadata": {},
   "outputs": [
    {
     "data": {
      "text/plain": [
       "[1, 2, 3, 4]"
      ]
     },
     "execution_count": 54,
     "metadata": {},
     "output_type": "execute_result"
    }
   ],
   "source": [
    "d"
   ]
  },
  {
   "cell_type": "code",
   "execution_count": 55,
   "id": "b909cfb8-d921-40a7-b5ae-e7e26182774f",
   "metadata": {},
   "outputs": [],
   "source": [
    "def test4():\n",
    "    a=5+6/7\n",
    "    return a"
   ]
  },
  {
   "cell_type": "code",
   "execution_count": 57,
   "id": "09041839-ce00-490f-a495-733dfc8767ee",
   "metadata": {},
   "outputs": [
    {
     "data": {
      "text/plain": [
       "5.857142857142857"
      ]
     },
     "execution_count": 57,
     "metadata": {},
     "output_type": "execute_result"
    }
   ],
   "source": [
    "test4()"
   ]
  },
  {
   "cell_type": "code",
   "execution_count": 58,
   "id": "2d98ec4d-d70e-435a-91c7-accd2c35046b",
   "metadata": {},
   "outputs": [],
   "source": [
    "def test5(a,b,c):\n",
    "    d=a+b/c\n",
    "    return d\n",
    "    \n",
    "    \n",
    "    "
   ]
  },
  {
   "cell_type": "code",
   "execution_count": 60,
   "id": "44433213-4d14-49e3-8983-e9f5b11fd39e",
   "metadata": {},
   "outputs": [
    {
     "data": {
      "text/plain": [
       "12.5"
      ]
     },
     "execution_count": 60,
     "metadata": {},
     "output_type": "execute_result"
    }
   ],
   "source": [
    "test5(10,5,2)"
   ]
  },
  {
   "cell_type": "code",
   "execution_count": null,
   "id": "89a161c8-6ef1-4596-ac45-c72677bbb311",
   "metadata": {
    "tags": []
   },
   "outputs": [],
   "source": [
    "def test6(a,b):\n",
    "    return"
   ]
  },
  {
   "cell_type": "code",
   "execution_count": 62,
   "id": "ff706cc8-d239-4a03-ad93-869039b4a8d2",
   "metadata": {},
   "outputs": [
    {
     "data": {
      "text/plain": [
       "11"
      ]
     },
     "execution_count": 62,
     "metadata": {},
     "output_type": "execute_result"
    }
   ],
   "source": [
    "test6(5,6)"
   ]
  },
  {
   "cell_type": "code",
   "execution_count": 63,
   "id": "45492cc5-7412-4487-8e90-db2b72ca7633",
   "metadata": {},
   "outputs": [
    {
     "data": {
      "text/plain": [
       "11"
      ]
     },
     "execution_count": 63,
     "metadata": {},
     "output_type": "execute_result"
    }
   ],
   "source": [
    "test6(5,6)"
   ]
  },
  {
   "cell_type": "code",
   "execution_count": 64,
   "id": "c2275247-c9ad-460b-8220-39a83a167deb",
   "metadata": {},
   "outputs": [
    {
     "data": {
      "text/plain": [
       "'sudhkumar'"
      ]
     },
     "execution_count": 64,
     "metadata": {},
     "output_type": "execute_result"
    }
   ],
   "source": [
    "test6(\"sudh\",\"kumar\")"
   ]
  },
  {
   "cell_type": "code",
   "execution_count": 66,
   "id": "0176be36-4ce9-4922-9e68-a42025a8154e",
   "metadata": {},
   "outputs": [
    {
     "data": {
      "text/plain": [
       "[1, 2, 3, 4, 5, 4, 5, 6]"
      ]
     },
     "execution_count": 66,
     "metadata": {},
     "output_type": "execute_result"
    }
   ],
   "source": [
    "test6([1,2,3,4,5],[4,5,6])"
   ]
  },
  {
   "cell_type": "code",
   "execution_count": 67,
   "id": "c4e997b5-5374-454d-81c5-676bc522754c",
   "metadata": {},
   "outputs": [],
   "source": [
    "l=[1,2,3,4,\"sudh\",[1,2,3,4,5,6]]"
   ]
  },
  {
   "cell_type": "code",
   "execution_count": 68,
   "id": "72d8f4e0-8a5e-403f-98cf-e05071ddf8dd",
   "metadata": {},
   "outputs": [],
   "source": [
    "##function to create a list from list to segregate data of diffrent types diffrence types"
   ]
  },
  {
   "cell_type": "code",
   "execution_count": 73,
   "id": "a100f823-d2e6-4a09-a295-aa8b3143e40e",
   "metadata": {},
   "outputs": [],
   "source": [
    "l1=[]\n",
    "for i in l:\n",
    "    if type(i) ==int or type(i)==float:\n",
    "        l1.append(i)\n",
    "\n"
   ]
  },
  {
   "cell_type": "code",
   "execution_count": 74,
   "id": "5fde03fd-0e97-42f7-bf8a-631a284ef25a",
   "metadata": {},
   "outputs": [
    {
     "data": {
      "text/plain": [
       "[1, 2, 3, 4]"
      ]
     },
     "execution_count": 74,
     "metadata": {},
     "output_type": "execute_result"
    }
   ],
   "source": [
    "l1"
   ]
  },
  {
   "cell_type": "code",
   "execution_count": 76,
   "id": "1dce9166-9fc1-4560-96cc-788cc8766230",
   "metadata": {},
   "outputs": [],
   "source": [
    "def test7(l):\n",
    "    l1=[]\n",
    "    for i in l:\n",
    "        if type(i) ==int or type(i)==float:\n",
    "            l1.append(i)\n",
    "    return l1\n",
    "\n",
    "\n",
    "    \n",
    "    "
   ]
  },
  {
   "cell_type": "code",
   "execution_count": 77,
   "id": "e1799f40-048c-45bc-8725-23f606f9775b",
   "metadata": {},
   "outputs": [
    {
     "data": {
      "text/plain": [
       "[1, 2, 3, 4]"
      ]
     },
     "execution_count": 77,
     "metadata": {},
     "output_type": "execute_result"
    }
   ],
   "source": [
    "l1"
   ]
  },
  {
   "cell_type": "code",
   "execution_count": 80,
   "id": "5074b41e-42c4-4161-b376-a6c294a818ce",
   "metadata": {},
   "outputs": [
    {
     "data": {
      "text/plain": [
       "[1, 2, 3, 4]"
      ]
     },
     "execution_count": 80,
     "metadata": {},
     "output_type": "execute_result"
    }
   ],
   "source": [
    "test7(l)"
   ]
  },
  {
   "cell_type": "code",
   "execution_count": 83,
   "id": "817993c4-bf68-4789-b5ed-03b56634dc3e",
   "metadata": {},
   "outputs": [],
   "source": [
    "#checl list in list also and print integers or float from original big list"
   ]
  },
  {
   "cell_type": "code",
   "execution_count": 88,
   "id": "88c359b1-344f-4f99-833c-0e5b67ac3db4",
   "metadata": {},
   "outputs": [],
   "source": [
    "def test8(a):\n",
    "    l=[]\n",
    "    for i in a:\n",
    "        if type(i)==list:\n",
    "            for j in i:\n",
    "                l.append(j)\n",
    "        else:\n",
    "            if type(i)==int or type(i)==float:\n",
    "                l.append(i)\n",
    "    return l"
   ]
  },
  {
   "cell_type": "code",
   "execution_count": 89,
   "id": "9952cdb1-2c2e-43d3-a2ac-9d388925ffb5",
   "metadata": {},
   "outputs": [
    {
     "data": {
      "text/plain": [
       "[1, 2, 3, 4, 1, 2, 3, 4, 5, 6]"
      ]
     },
     "execution_count": 89,
     "metadata": {},
     "output_type": "execute_result"
    }
   ],
   "source": [
    "test8(l)"
   ]
  },
  {
   "cell_type": "code",
   "execution_count": 90,
   "id": "cccd67ac-0b73-406a-aba4-2d7b5ea0e852",
   "metadata": {},
   "outputs": [
    {
     "data": {
      "text/plain": [
       "[1, 2, 3, 4, 'sudh', [1, 2, 3, 4, 5, 6]]"
      ]
     },
     "execution_count": 90,
     "metadata": {},
     "output_type": "execute_result"
    }
   ],
   "source": [
    "l"
   ]
  },
  {
   "cell_type": "code",
   "execution_count": 92,
   "id": "49e8eb03-bb76-4233-bc17-311c223645b2",
   "metadata": {},
   "outputs": [],
   "source": [
    "##how to pass information in function on what function does using shift +tab"
   ]
  },
  {
   "cell_type": "code",
   "execution_count": 96,
   "id": "0a3090cb-f098-42d5-8739-18a4bc5689d2",
   "metadata": {},
   "outputs": [],
   "source": [
    "def test9(a):\n",
    "    \"\"\"this is my function to extract number data from list \"\"\"\n",
    "    l=[]\n",
    "    for i in a :\n",
    "        if type(i)==list:\n",
    "            for j in i:\n",
    "                l.append(j)\n",
    "        else:\n",
    "            if type(i)==int or type(i)==float:\n",
    "                l.append(i)\n",
    "    return l\n"
   ]
  },
  {
   "cell_type": "code",
   "execution_count": 98,
   "id": "91fd2375-e593-42a8-8718-6145a59393a0",
   "metadata": {},
   "outputs": [
    {
     "data": {
      "text/plain": [
       "[1, 2, 3, 4, 1, 2, 3, 4, 5, 6]"
      ]
     },
     "execution_count": 98,
     "metadata": {},
     "output_type": "execute_result"
    }
   ],
   "source": [
    "test9(l)\n"
   ]
  },
  {
   "cell_type": "code",
   "execution_count": 101,
   "id": "e22bc473-404b-4cc7-964f-5e70d370a5ab",
   "metadata": {},
   "outputs": [],
   "source": [
    "#how to pass n of arguments in function using \"*\""
   ]
  },
  {
   "cell_type": "code",
   "execution_count": 100,
   "id": "081c36dd-d853-4b47-b9a7-b57fc6d3e4b2",
   "metadata": {},
   "outputs": [],
   "source": [
    "def test10(a,b):\n",
    "    return a+b"
   ]
  },
  {
   "cell_type": "code",
   "execution_count": 107,
   "id": "255201e1-6eee-47b1-8411-8a1d518b6c8d",
   "metadata": {},
   "outputs": [],
   "source": [
    "def test11(*args):\n",
    "    return args"
   ]
  },
  {
   "cell_type": "code",
   "execution_count": 108,
   "id": "eb36f18d-d247-44d3-906c-ea0e51225df9",
   "metadata": {},
   "outputs": [
    {
     "data": {
      "text/plain": [
       "()"
      ]
     },
     "execution_count": 108,
     "metadata": {},
     "output_type": "execute_result"
    }
   ],
   "source": [
    "test11()"
   ]
  },
  {
   "cell_type": "code",
   "execution_count": 109,
   "id": "809c6ecb-6fc4-4c0d-a377-903e6cd75c00",
   "metadata": {},
   "outputs": [
    {
     "data": {
      "text/plain": [
       "tuple"
      ]
     },
     "execution_count": 109,
     "metadata": {},
     "output_type": "execute_result"
    }
   ],
   "source": [
    "type(test11())"
   ]
  },
  {
   "cell_type": "code",
   "execution_count": 110,
   "id": "33350d35-942a-4b82-b249-5e0a328978a8",
   "metadata": {},
   "outputs": [
    {
     "data": {
      "text/plain": [
       "(1, 2, 3)"
      ]
     },
     "execution_count": 110,
     "metadata": {},
     "output_type": "execute_result"
    }
   ],
   "source": [
    "test11(1,2,3)"
   ]
  },
  {
   "cell_type": "code",
   "execution_count": 111,
   "id": "a36c4fea-49e0-474c-8aba-9da25d101fb8",
   "metadata": {},
   "outputs": [
    {
     "data": {
      "text/plain": [
       "(1, 2, 3, 'sudh', 'kumar', [1, 2, 3, 4, 4])"
      ]
     },
     "execution_count": 111,
     "metadata": {},
     "output_type": "execute_result"
    }
   ],
   "source": [
    "test11(1,2,3,\"sudh\",\"kumar\",[1,2,3,4,4])"
   ]
  },
  {
   "cell_type": "code",
   "execution_count": 115,
   "id": "6f3683b4-d473-41c8-9875-72794d3f1106",
   "metadata": {},
   "outputs": [],
   "source": [
    "def test12(*sudh):\n",
    "    return sudh\n"
   ]
  },
  {
   "cell_type": "code",
   "execution_count": 116,
   "id": "779e0c7d-b1cc-474d-a963-6574c959bc2f",
   "metadata": {},
   "outputs": [
    {
     "data": {
      "text/plain": [
       "(1, 2, 34, 4)"
      ]
     },
     "execution_count": 116,
     "metadata": {},
     "output_type": "execute_result"
    }
   ],
   "source": [
    "test12(1,2,34,4)"
   ]
  },
  {
   "cell_type": "code",
   "execution_count": 117,
   "id": "d42ea858-2483-4589-a89d-7e03aca672a3",
   "metadata": {},
   "outputs": [],
   "source": [
    "def test13(*args,a):\n",
    "    return args ,a"
   ]
  },
  {
   "cell_type": "code",
   "execution_count": 118,
   "id": "a7c7c17d-778a-4e8d-8026-9466957045f9",
   "metadata": {},
   "outputs": [
    {
     "ename": "TypeError",
     "evalue": "test13() missing 1 required keyword-only argument: 'a'",
     "output_type": "error",
     "traceback": [
      "\u001b[0;31m---------------------------------------------------------------------------\u001b[0m",
      "\u001b[0;31mTypeError\u001b[0m                                 Traceback (most recent call last)",
      "Cell \u001b[0;32mIn[118], line 1\u001b[0m\n\u001b[0;32m----> 1\u001b[0m \u001b[43mtest13\u001b[49m\u001b[43m(\u001b[49m\u001b[38;5;241;43m1\u001b[39;49m\u001b[43m,\u001b[49m\u001b[38;5;241;43m2\u001b[39;49m\u001b[43m,\u001b[49m\u001b[38;5;241;43m3\u001b[39;49m\u001b[43m,\u001b[49m\u001b[38;5;241;43m4\u001b[39;49m\u001b[43m)\u001b[49m\n",
      "\u001b[0;31mTypeError\u001b[0m: test13() missing 1 required keyword-only argument: 'a'"
     ]
    }
   ],
   "source": [
    "test13(1,2,3,4)"
   ]
  },
  {
   "cell_type": "code",
   "execution_count": 120,
   "id": "24c9663d-6f95-43a5-abed-9e84ec0be1fb",
   "metadata": {},
   "outputs": [],
   "source": [
    "def test13(*args,a):\n",
    "    return args ,a\n"
   ]
  },
  {
   "cell_type": "code",
   "execution_count": 121,
   "id": "53780501-fd0c-420c-bda2-43bae873487f",
   "metadata": {},
   "outputs": [
    {
     "data": {
      "text/plain": [
       "((1, 2, 3, 4), 25)"
      ]
     },
     "execution_count": 121,
     "metadata": {},
     "output_type": "execute_result"
    }
   ],
   "source": [
    "test13(1,2,3,4,a=25)"
   ]
  },
  {
   "cell_type": "code",
   "execution_count": 124,
   "id": "6f7a8b2a-9b2b-4d22-854e-ff3814e28444",
   "metadata": {},
   "outputs": [],
   "source": [
    "def test14(c,d,a=23,b=1):\n",
    "    return a,b,c,d"
   ]
  },
  {
   "cell_type": "code",
   "execution_count": 125,
   "id": "dd84e36c-17ec-4b98-b08c-a2741804af06",
   "metadata": {},
   "outputs": [
    {
     "data": {
      "text/plain": [
       "(23, 1, 3, 4)"
      ]
     },
     "execution_count": 125,
     "metadata": {},
     "output_type": "execute_result"
    }
   ],
   "source": [
    "test14(3,4)"
   ]
  },
  {
   "cell_type": "code",
   "execution_count": 126,
   "id": "e8b77875-1d82-4608-a7f3-8681ee7925e5",
   "metadata": {},
   "outputs": [
    {
     "data": {
      "text/plain": [
       "(2342, 1, 2, 5)"
      ]
     },
     "execution_count": 126,
     "metadata": {},
     "output_type": "execute_result"
    }
   ],
   "source": [
    "test14(2,5,a=2342)"
   ]
  },
  {
   "cell_type": "code",
   "execution_count": 1,
   "id": "52bccc80-ecba-414a-9639-1e9539f61eea",
   "metadata": {},
   "outputs": [],
   "source": [
    "##key args by using **. this will give arg in form of key value pairs"
   ]
  },
  {
   "cell_type": "code",
   "execution_count": 2,
   "id": "2b09166c-6206-4f8f-969b-090690c93a4b",
   "metadata": {},
   "outputs": [],
   "source": [
    "def test15(**kwargs):\n",
    "    return kwargs"
   ]
  },
  {
   "cell_type": "code",
   "execution_count": 3,
   "id": "ced82ec1-5c8b-49e9-b7f7-688d5587d17d",
   "metadata": {},
   "outputs": [
    {
     "data": {
      "text/plain": [
       "{}"
      ]
     },
     "execution_count": 3,
     "metadata": {},
     "output_type": "execute_result"
    }
   ],
   "source": [
    "test15()"
   ]
  },
  {
   "cell_type": "code",
   "execution_count": 4,
   "id": "a8b0af68-9fad-43e4-b450-c003a8d4793d",
   "metadata": {},
   "outputs": [
    {
     "data": {
      "text/plain": [
       "dict"
      ]
     },
     "execution_count": 4,
     "metadata": {},
     "output_type": "execute_result"
    }
   ],
   "source": [
    "type(test15())"
   ]
  },
  {
   "cell_type": "code",
   "execution_count": 5,
   "id": "84a0600c-bad9-4fa1-b003-b030b95f7c20",
   "metadata": {},
   "outputs": [
    {
     "data": {
      "text/plain": [
       "{'a': [1, 2, 3, 4], 'b': 'sudh', 'c': 23.45}"
      ]
     },
     "execution_count": 5,
     "metadata": {},
     "output_type": "execute_result"
    }
   ],
   "source": [
    "test15(a=[1,2,3,4],b=\"sudh\",c=23.45)"
   ]
  },
  {
   "cell_type": "code",
   "execution_count": null,
   "id": "e9caad19-7f2d-4de2-abb8-455d50cc69e3",
   "metadata": {},
   "outputs": [],
   "source": []
  }
 ],
 "metadata": {
  "kernelspec": {
   "display_name": "Python 3 (ipykernel)",
   "language": "python",
   "name": "python3"
  },
  "language_info": {
   "codemirror_mode": {
    "name": "ipython",
    "version": 3
   },
   "file_extension": ".py",
   "mimetype": "text/x-python",
   "name": "python",
   "nbconvert_exporter": "python",
   "pygments_lexer": "ipython3",
   "version": "3.10.8"
  }
 },
 "nbformat": 4,
 "nbformat_minor": 5
}
