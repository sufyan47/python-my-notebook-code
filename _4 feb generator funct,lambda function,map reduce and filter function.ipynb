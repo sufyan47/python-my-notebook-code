{
 "cells": [
  {
   "cell_type": "code",
   "execution_count": 10,
   "id": "fd92b095-e96f-4187-8076-0b1182034cd8",
   "metadata": {},
   "outputs": [],
   "source": [
    "## generartor function"
   ]
  },
  {
   "cell_type": "code",
   "execution_count": 12,
   "id": "08c4d7be-b436-4dc9-bf2a-7bd47017944c",
   "metadata": {},
   "outputs": [
    {
     "data": {
      "text/plain": [
       "range(0, 10)"
      ]
     },
     "execution_count": 12,
     "metadata": {},
     "output_type": "execute_result"
    }
   ],
   "source": [
    "range(10)"
   ]
  },
  {
   "cell_type": "code",
   "execution_count": 14,
   "id": "5bee61d8-30e0-401f-a410-1a417d55d5cd",
   "metadata": {},
   "outputs": [
    {
     "name": "stdout",
     "output_type": "stream",
     "text": [
      "0\n",
      "1\n",
      "2\n",
      "3\n",
      "4\n",
      "5\n",
      "6\n",
      "7\n",
      "8\n",
      "9\n"
     ]
    }
   ],
   "source": [
    "for i in range(10):\n",
    "    print(i)"
   ]
  },
  {
   "cell_type": "code",
   "execution_count": 15,
   "id": "69821e66-d04a-432a-9aab-babd8f666a74",
   "metadata": {},
   "outputs": [],
   "source": [
    "##fibonacci series using generator function"
   ]
  },
  {
   "cell_type": "code",
   "execution_count": 16,
   "id": "34e8e5f2-c589-4caa-adf2-2aeb28dd01e6",
   "metadata": {},
   "outputs": [],
   "source": [
    "def test_fib(n):\n",
    "    a,b=0,1\n",
    "    for i in range(n):\n",
    "        yield a\n",
    "        a,b=b,a+b"
   ]
  },
  {
   "cell_type": "code",
   "execution_count": 17,
   "id": "4d67797f-4d4b-4a61-946e-b671ed47f0ee",
   "metadata": {},
   "outputs": [
    {
     "data": {
      "text/plain": [
       "<generator object test_fib at 0x7fa5e44aa8f0>"
      ]
     },
     "execution_count": 17,
     "metadata": {},
     "output_type": "execute_result"
    }
   ],
   "source": [
    "test_fib(10)"
   ]
  },
  {
   "cell_type": "code",
   "execution_count": 18,
   "id": "44b84251-ea0c-4135-aa67-8e0de9682ac4",
   "metadata": {},
   "outputs": [
    {
     "data": {
      "text/plain": [
       "[0, 1, 1, 2, 3, 5, 8, 13, 21, 34]"
      ]
     },
     "execution_count": 18,
     "metadata": {},
     "output_type": "execute_result"
    }
   ],
   "source": [
    "list(test_fib(10))"
   ]
  },
  {
   "cell_type": "code",
   "execution_count": 19,
   "id": "3b3b9101-f958-4eef-b7b3-e8085d50e813",
   "metadata": {},
   "outputs": [
    {
     "name": "stdout",
     "output_type": "stream",
     "text": [
      "0\n",
      "1\n",
      "1\n",
      "2\n",
      "3\n",
      "5\n",
      "8\n",
      "13\n",
      "21\n",
      "34\n"
     ]
    }
   ],
   "source": [
    "for i in test_fib(10):\n",
    "    print(i)"
   ]
  },
  {
   "cell_type": "code",
   "execution_count": 9,
   "id": "702ee355-5e30-43b6-9424-3f6ed6929f06",
   "metadata": {},
   "outputs": [
    {
     "name": "stdout",
     "output_type": "stream",
     "text": [
      "0\n",
      "1\n",
      "1\n",
      "2\n",
      "3\n",
      "5\n",
      "8\n",
      "13\n",
      "21\n",
      "34\n",
      "55\n"
     ]
    }
   ],
   "source": [
    "for i in test_fib(11):\n",
    "    print(i)"
   ]
  },
  {
   "cell_type": "code",
   "execution_count": 20,
   "id": "584d224e-b19f-44d5-b85d-f0b331470759",
   "metadata": {},
   "outputs": [],
   "source": [
    "## using while loop"
   ]
  },
  {
   "cell_type": "code",
   "execution_count": 22,
   "id": "952d163f-9f77-4070-a9f4-d1baa4c5ea9d",
   "metadata": {},
   "outputs": [],
   "source": [
    "def test_fib1():\n",
    "    a,b=0,1\n",
    "    while True:\n",
    "        yield a\n",
    "        a,b=b,a+b"
   ]
  },
  {
   "cell_type": "code",
   "execution_count": 23,
   "id": "0301e2ca-d1aa-4d9d-96b1-14c9c4c46af0",
   "metadata": {},
   "outputs": [],
   "source": [
    "fib =test_fib1()"
   ]
  },
  {
   "cell_type": "code",
   "execution_count": 25,
   "id": "12bf8bca-f2e6-409e-b846-8588e1916967",
   "metadata": {},
   "outputs": [
    {
     "name": "stdout",
     "output_type": "stream",
     "text": [
      "0\n",
      "1\n",
      "1\n",
      "2\n",
      "3\n",
      "5\n",
      "8\n",
      "13\n",
      "21\n",
      "34\n"
     ]
    }
   ],
   "source": [
    "for i in range(10):\n",
    "    print(next(fib))"
   ]
  },
  {
   "cell_type": "code",
   "execution_count": 26,
   "id": "9e48b7ba-566e-4846-a98c-04f333100bf9",
   "metadata": {},
   "outputs": [],
   "source": [
    "s =\"sudh\""
   ]
  },
  {
   "cell_type": "code",
   "execution_count": 27,
   "id": "2e115a16-c13b-4484-8a0d-07f7424bf498",
   "metadata": {},
   "outputs": [
    {
     "name": "stdout",
     "output_type": "stream",
     "text": [
      "s\n",
      "u\n",
      "d\n",
      "h\n"
     ]
    }
   ],
   "source": [
    "for i in s:\n",
    "    print(i)"
   ]
  },
  {
   "cell_type": "code",
   "execution_count": 28,
   "id": "1090d4a8-a802-4eaa-87be-f3b728c87bf3",
   "metadata": {},
   "outputs": [
    {
     "ename": "TypeError",
     "evalue": "'str' object is not an iterator",
     "output_type": "error",
     "traceback": [
      "\u001b[0;31m---------------------------------------------------------------------------\u001b[0m",
      "\u001b[0;31mTypeError\u001b[0m                                 Traceback (most recent call last)",
      "Cell \u001b[0;32mIn[28], line 1\u001b[0m\n\u001b[0;32m----> 1\u001b[0m \u001b[38;5;28;43mnext\u001b[39;49m\u001b[43m(\u001b[49m\u001b[43ms\u001b[49m\u001b[43m)\u001b[49m\n",
      "\u001b[0;31mTypeError\u001b[0m: 'str' object is not an iterator"
     ]
    }
   ],
   "source": [
    "next(s)"
   ]
  },
  {
   "cell_type": "code",
   "execution_count": 29,
   "id": "76fc93d8-132f-4110-96b0-e2d0fcfe5c82",
   "metadata": {},
   "outputs": [],
   "source": [
    "s1=iter(s)"
   ]
  },
  {
   "cell_type": "code",
   "execution_count": 30,
   "id": "f2d95b41-2ef7-4896-9e4b-19e60577a991",
   "metadata": {},
   "outputs": [
    {
     "data": {
      "text/plain": [
       "'s'"
      ]
     },
     "execution_count": 30,
     "metadata": {},
     "output_type": "execute_result"
    }
   ],
   "source": [
    "next(s1)"
   ]
  },
  {
   "cell_type": "code",
   "execution_count": 31,
   "id": "a9e3b321-cfe1-4b41-b353-12b23e4ed138",
   "metadata": {},
   "outputs": [
    {
     "data": {
      "text/plain": [
       "'u'"
      ]
     },
     "execution_count": 31,
     "metadata": {},
     "output_type": "execute_result"
    }
   ],
   "source": [
    "next(s1)"
   ]
  },
  {
   "cell_type": "code",
   "execution_count": 32,
   "id": "90d731ca-a6ab-4d31-b9bf-261ed0b48c6e",
   "metadata": {},
   "outputs": [
    {
     "data": {
      "text/plain": [
       "'d'"
      ]
     },
     "execution_count": 32,
     "metadata": {},
     "output_type": "execute_result"
    }
   ],
   "source": [
    "next(s1)"
   ]
  },
  {
   "cell_type": "code",
   "execution_count": 33,
   "id": "277ed866-4fcb-433d-a7f1-0d755e65d25d",
   "metadata": {},
   "outputs": [
    {
     "data": {
      "text/plain": [
       "'h'"
      ]
     },
     "execution_count": 33,
     "metadata": {},
     "output_type": "execute_result"
    }
   ],
   "source": [
    "next(s1)"
   ]
  },
  {
   "cell_type": "code",
   "execution_count": 35,
   "id": "74b4888b-1211-4a31-847e-698206cfb188",
   "metadata": {},
   "outputs": [
    {
     "data": {
      "text/plain": [
       "str_iterator"
      ]
     },
     "execution_count": 35,
     "metadata": {},
     "output_type": "execute_result"
    }
   ],
   "source": [
    "type(s1)"
   ]
  },
  {
   "cell_type": "raw",
   "id": "08cb5025-c76c-4290-bc8d-e91af0f2eb9a",
   "metadata": {},
   "source": []
  },
  {
   "cell_type": "code",
   "execution_count": 37,
   "id": "276b014d-9121-461f-ac4d-e6cbd48142ac",
   "metadata": {},
   "outputs": [],
   "source": [
    "##string is iterable but not iteror.we have to make iterator.next only works on iterator\"\"\""
   ]
  },
  {
   "cell_type": "code",
   "execution_count": 38,
   "id": "275844af-9149-4ff4-875c-927e76e6b742",
   "metadata": {},
   "outputs": [],
   "source": [
    "##for loop first makes iterable and do next."
   ]
  },
  {
   "cell_type": "code",
   "execution_count": 39,
   "id": "778f82e4-f2e2-4d87-9dbb-cf2d54da9153",
   "metadata": {},
   "outputs": [
    {
     "ename": "TypeError",
     "evalue": "'int' object is not an iterator",
     "output_type": "error",
     "traceback": [
      "\u001b[0;31m---------------------------------------------------------------------------\u001b[0m",
      "\u001b[0;31mTypeError\u001b[0m                                 Traceback (most recent call last)",
      "Cell \u001b[0;32mIn[39], line 1\u001b[0m\n\u001b[0;32m----> 1\u001b[0m \u001b[38;5;28;43mnext\u001b[39;49m\u001b[43m(\u001b[49m\u001b[38;5;241;43m45\u001b[39;49m\u001b[43m)\u001b[49m\n",
      "\u001b[0;31mTypeError\u001b[0m: 'int' object is not an iterator"
     ]
    }
   ],
   "source": [
    "next(45)"
   ]
  },
  {
   "cell_type": "code",
   "execution_count": 43,
   "id": "dce3a4fc-7da8-4d64-9ec4-86f8cf42790e",
   "metadata": {},
   "outputs": [
    {
     "ename": "TypeError",
     "evalue": "'int' object is not iterable",
     "output_type": "error",
     "traceback": [
      "\u001b[0;31m---------------------------------------------------------------------------\u001b[0m",
      "\u001b[0;31mTypeError\u001b[0m                                 Traceback (most recent call last)",
      "Cell \u001b[0;32mIn[43], line 1\u001b[0m\n\u001b[0;32m----> 1\u001b[0m \u001b[38;5;28;43miter\u001b[39;49m\u001b[43m(\u001b[49m\u001b[38;5;241;43m45\u001b[39;49m\u001b[43m)\u001b[49m\n",
      "\u001b[0;31mTypeError\u001b[0m: 'int' object is not iterable"
     ]
    }
   ],
   "source": [
    "iter(45)"
   ]
  },
  {
   "cell_type": "code",
   "execution_count": 45,
   "id": "9ba9494a-9ae2-4a60-a0fd-e6daf652d69b",
   "metadata": {},
   "outputs": [],
   "source": [
    "##iterator is object or data that we  can go by doing next and get data one by one.eg:next(s1).iterable is data that we can covert in iterator."
   ]
  },
  {
   "cell_type": "code",
   "execution_count": 47,
   "id": "47495708-17c3-48cd-b5b2-7ee4cb50ef2a",
   "metadata": {},
   "outputs": [],
   "source": [
    "def count_test(n):\n",
    "    count=1\n",
    "    while count<n :\n",
    "        yield count\n",
    "        count=count + 1\n",
    "    "
   ]
  },
  {
   "cell_type": "code",
   "execution_count": 50,
   "id": "5eff33a2-8fa0-4037-9361-138494348624",
   "metadata": {},
   "outputs": [],
   "source": [
    "c =count_test(5)"
   ]
  },
  {
   "cell_type": "code",
   "execution_count": 52,
   "id": "19d6944e-a470-480a-8c8a-c1e98388c4f4",
   "metadata": {},
   "outputs": [
    {
     "name": "stdout",
     "output_type": "stream",
     "text": [
      "1\n",
      "2\n",
      "3\n",
      "4\n"
     ]
    }
   ],
   "source": [
    " for i in c:\n",
    "        print(i)"
   ]
  },
  {
   "cell_type": "code",
   "execution_count": 53,
   "id": "e83b5678-11f5-4f1f-b0ca-c6eb00ea4b3c",
   "metadata": {},
   "outputs": [
    {
     "data": {
      "text/plain": [
       "generator"
      ]
     },
     "execution_count": 53,
     "metadata": {},
     "output_type": "execute_result"
    }
   ],
   "source": [
    "type (c)"
   ]
  },
  {
   "cell_type": "code",
   "execution_count": 2,
   "id": "5b2fcd74-8115-47bd-bd08-578aea36775d",
   "metadata": {},
   "outputs": [],
   "source": [
    "##2)lambda function"
   ]
  },
  {
   "cell_type": "code",
   "execution_count": 3,
   "id": "4fa7cb43-37e8-4973-9640-adbb032d471d",
   "metadata": {},
   "outputs": [],
   "source": [
    "n=3 \n",
    "p=2"
   ]
  },
  {
   "cell_type": "code",
   "execution_count": 4,
   "id": "0bd1a81d-8946-4821-8c97-6adfafd8b447",
   "metadata": {},
   "outputs": [],
   "source": [
    "def test(n,p):\n",
    "    return n**p"
   ]
  },
  {
   "cell_type": "code",
   "execution_count": 5,
   "id": "d4c76338-852b-43f9-86d3-0415243bf3e6",
   "metadata": {},
   "outputs": [
    {
     "data": {
      "text/plain": [
       "9"
      ]
     },
     "execution_count": 5,
     "metadata": {},
     "output_type": "execute_result"
    }
   ],
   "source": [
    "test(3,2)"
   ]
  },
  {
   "cell_type": "code",
   "execution_count": 7,
   "id": "7d62dfa2-fdae-49e4-b090-e1e84403993c",
   "metadata": {},
   "outputs": [],
   "source": [
    "a= lambda n,p:n**p"
   ]
  },
  {
   "cell_type": "code",
   "execution_count": 8,
   "id": "8e426a3e-81ba-481d-86b0-ff46e8dc11cf",
   "metadata": {},
   "outputs": [
    {
     "data": {
      "text/plain": [
       "9"
      ]
     },
     "execution_count": 8,
     "metadata": {},
     "output_type": "execute_result"
    }
   ],
   "source": [
    "a(3,2)"
   ]
  },
  {
   "cell_type": "code",
   "execution_count": null,
   "id": "b8911537-b365-43c5-a7c6-25b626b70a4f",
   "metadata": {},
   "outputs": [],
   "source": [
    "## lambda fuction to find addition"
   ]
  },
  {
   "cell_type": "code",
   "execution_count": 9,
   "id": "10fedb4e-bb02-49ff-990c-ae500ae1ce73",
   "metadata": {},
   "outputs": [],
   "source": [
    " add= lambda x,y:x+y"
   ]
  },
  {
   "cell_type": "code",
   "execution_count": 10,
   "id": "ca5d66d6-9690-4bfc-b731-fb9d3bcbebb9",
   "metadata": {},
   "outputs": [
    {
     "data": {
      "text/plain": [
       "5"
      ]
     },
     "execution_count": 10,
     "metadata": {},
     "output_type": "execute_result"
    }
   ],
   "source": [
    "add(3,2)"
   ]
  },
  {
   "cell_type": "code",
   "execution_count": 11,
   "id": "7dbc330e-cfa8-4639-8244-fbdae324dd01",
   "metadata": {},
   "outputs": [],
   "source": [
    "## lambda function is to write simple single line function.for complex we have to define and write  traditional function."
   ]
  },
  {
   "cell_type": "code",
   "execution_count": 12,
   "id": "2e2b8e6c-9c76-4d28-ab5f-0d7d2f1d7286",
   "metadata": {},
   "outputs": [],
   "source": [
    "## lambda function for degree celcius  to faranite"
   ]
  },
  {
   "cell_type": "code",
   "execution_count": 15,
   "id": "f315c0af-657a-40e3-a0db-494dff95558a",
   "metadata": {},
   "outputs": [],
   "source": [
    "c_to_f = lambda c :(9/5)*c +32"
   ]
  },
  {
   "cell_type": "code",
   "execution_count": 16,
   "id": "f3cdd999-eb5e-4dfb-9d93-8ffe0dc72fcc",
   "metadata": {},
   "outputs": [
    {
     "data": {
      "text/plain": [
       "113.0"
      ]
     },
     "execution_count": 16,
     "metadata": {},
     "output_type": "execute_result"
    }
   ],
   "source": [
    "c_to_f(45)"
   ]
  },
  {
   "cell_type": "code",
   "execution_count": 17,
   "id": "24d166bb-6b72-4287-946e-8e56bad522a5",
   "metadata": {},
   "outputs": [],
   "source": [
    "## finding max  of two numbers using lambda function"
   ]
  },
  {
   "cell_type": "code",
   "execution_count": 18,
   "id": "d31f3045-b7d7-4129-a754-c04e5b71ce63",
   "metadata": {},
   "outputs": [],
   "source": [
    "finding_max= lambda x,y: x if x>y else y"
   ]
  },
  {
   "cell_type": "code",
   "execution_count": 19,
   "id": "f85a8f44-7004-4bca-8336-64ca135d3ccc",
   "metadata": {},
   "outputs": [
    {
     "data": {
      "text/plain": [
       "12"
      ]
     },
     "execution_count": 19,
     "metadata": {},
     "output_type": "execute_result"
    }
   ],
   "source": [
    "finding_max(10,12)"
   ]
  },
  {
   "cell_type": "code",
   "execution_count": 20,
   "id": "d5db0002-2d81-4cbc-85ec-055d6b4b6206",
   "metadata": {},
   "outputs": [],
   "source": [
    "## lambda function to return length of string"
   ]
  },
  {
   "cell_type": "code",
   "execution_count": 21,
   "id": "f413ab09-9d55-47d6-a45a-11cb80f2ba9f",
   "metadata": {},
   "outputs": [],
   "source": [
    "s=\"pwskills\""
   ]
  },
  {
   "cell_type": "code",
   "execution_count": 25,
   "id": "ac162f38-e8bb-45ed-a5a0-ef2e9cfdb625",
   "metadata": {},
   "outputs": [],
   "source": [
    " find_len=lambda s: len(s)"
   ]
  },
  {
   "cell_type": "code",
   "execution_count": 26,
   "id": "c66824a2-8f13-469b-b940-943be6bedf76",
   "metadata": {},
   "outputs": [
    {
     "data": {
      "text/plain": [
       "8"
      ]
     },
     "execution_count": 26,
     "metadata": {},
     "output_type": "execute_result"
    }
   ],
   "source": [
    "find_len(s)"
   ]
  },
  {
   "cell_type": "code",
   "execution_count": 2,
   "id": "dcdcef5d-0779-48c1-9f36-78d6dede4343",
   "metadata": {},
   "outputs": [],
   "source": [
    "## map reduce and filter function"
   ]
  },
  {
   "cell_type": "code",
   "execution_count": 30,
   "id": "071ae244-b2e0-46ca-b993-4bc7bb97b314",
   "metadata": {},
   "outputs": [],
   "source": [
    "##map function"
   ]
  },
  {
   "cell_type": "code",
   "execution_count": 3,
   "id": "c5b093cc-94fb-4c8f-991c-73fcfaf1cbed",
   "metadata": {},
   "outputs": [],
   "source": [
    "l=[1,2,3,4,5,6]"
   ]
  },
  {
   "cell_type": "code",
   "execution_count": 4,
   "id": "aaaf955b-3049-43cd-bb5e-c2d7304b781d",
   "metadata": {},
   "outputs": [],
   "source": [
    "def test(l):\n",
    "    l1=[]\n",
    "    for i in l:\n",
    "       l1.append(i**2)\n",
    "    return l1\n",
    "        \n",
    "        "
   ]
  },
  {
   "cell_type": "code",
   "execution_count": 5,
   "id": "89e40f16-397e-45ad-be25-55057f44fd2e",
   "metadata": {},
   "outputs": [
    {
     "data": {
      "text/plain": [
       "[1, 4, 9, 16, 25, 36]"
      ]
     },
     "execution_count": 5,
     "metadata": {},
     "output_type": "execute_result"
    }
   ],
   "source": [
    "test(l)"
   ]
  },
  {
   "cell_type": "code",
   "execution_count": 6,
   "id": "88c437e1-b9b5-4788-a64f-53d824129368",
   "metadata": {},
   "outputs": [],
   "source": [
    "#square of list using map function"
   ]
  },
  {
   "cell_type": "code",
   "execution_count": 8,
   "id": "785d86f8-ed1c-4c81-ade9-f6a760ee5b23",
   "metadata": {},
   "outputs": [],
   "source": [
    "def sq(x):\n",
    "    return x**2"
   ]
  },
  {
   "cell_type": "code",
   "execution_count": 13,
   "id": "3ee61412-7a39-457e-bb96-2d2b28bd0341",
   "metadata": {},
   "outputs": [
    {
     "data": {
      "text/plain": [
       "[1, 4, 9, 16, 25, 36]"
      ]
     },
     "execution_count": 13,
     "metadata": {},
     "output_type": "execute_result"
    }
   ],
   "source": [
    "list(map(sq,l))"
   ]
  },
  {
   "cell_type": "code",
   "execution_count": 12,
   "id": "448ff43b-74ee-4ade-9f89-112b4746c85c",
   "metadata": {},
   "outputs": [
    {
     "data": {
      "text/plain": [
       "[1, 4, 9, 16, 25, 36]"
      ]
     },
     "execution_count": 12,
     "metadata": {},
     "output_type": "execute_result"
    }
   ],
   "source": [
    "list(map(lambda x :x**2,l))"
   ]
  },
  {
   "cell_type": "code",
   "execution_count": 14,
   "id": "6da977a4-a15a-41b1-8c39-1764a383ed44",
   "metadata": {},
   "outputs": [],
   "source": [
    "##map function to add element of two list means at index 1 added to index 1 "
   ]
  },
  {
   "cell_type": "code",
   "execution_count": 17,
   "id": "2ca30474-9563-4754-b46f-2c00ccb6ac1b",
   "metadata": {},
   "outputs": [],
   "source": [
    "l1=[1,2,3,4,5]\n",
    "l2=[6,7,8,9,10]"
   ]
  },
  {
   "cell_type": "code",
   "execution_count": 19,
   "id": "9cabf686-a5cc-45cd-a915-2191b48268d6",
   "metadata": {},
   "outputs": [
    {
     "data": {
      "text/plain": [
       "[7, 9, 11, 13, 15]"
      ]
     },
     "execution_count": 19,
     "metadata": {},
     "output_type": "execute_result"
    }
   ],
   "source": [
    "list(map(lambda x,y:x+y ,l1,l2))"
   ]
  },
  {
   "cell_type": "code",
   "execution_count": 20,
   "id": "42bd2361-b196-4711-8dd5-63aeed97ee11",
   "metadata": {},
   "outputs": [],
   "source": [
    "def add(x,y):\n",
    "    return x+y"
   ]
  },
  {
   "cell_type": "code",
   "execution_count": 25,
   "id": "6312f34a-290b-455a-ba8f-6731326b6705",
   "metadata": {},
   "outputs": [
    {
     "data": {
      "text/plain": [
       "[7, 9, 11, 13, 15]"
      ]
     },
     "execution_count": 25,
     "metadata": {},
     "output_type": "execute_result"
    }
   ],
   "source": [
    "list(map(add,l1,l2))"
   ]
  },
  {
   "cell_type": "code",
   "execution_count": 26,
   "id": "c85cff3f-77f4-45e2-b642-a4d0a8caa624",
   "metadata": {},
   "outputs": [],
   "source": [
    "##how to convert string in upper case using map function"
   ]
  },
  {
   "cell_type": "code",
   "execution_count": 27,
   "id": "ab0992d8-7db7-4110-8438-3460c32a1867",
   "metadata": {},
   "outputs": [],
   "source": [
    "s=\"pwskills\""
   ]
  },
  {
   "cell_type": "code",
   "execution_count": 29,
   "id": "d556fc67-dad9-43c9-b18c-a892132322b1",
   "metadata": {},
   "outputs": [
    {
     "data": {
      "text/plain": [
       "['P', 'W', 'S', 'K', 'I', 'L', 'L', 'S']"
      ]
     },
     "execution_count": 29,
     "metadata": {},
     "output_type": "execute_result"
    }
   ],
   "source": [
    "list(map(lambda s:s.upper(),s))"
   ]
  },
  {
   "cell_type": "code",
   "execution_count": null,
   "id": "86bb5883-320f-4ceb-894e-e9cba2b81083",
   "metadata": {},
   "outputs": [],
   "source": [
    "##reduce function"
   ]
  },
  {
   "cell_type": "code",
   "execution_count": 31,
   "id": "47262e6c-e4cc-42da-8740-800cb6126380",
   "metadata": {},
   "outputs": [],
   "source": [
    "##reduce function to find summation of all elements in alist"
   ]
  },
  {
   "cell_type": "code",
   "execution_count": 32,
   "id": "00215593-d373-497f-93b6-1389db933918",
   "metadata": {},
   "outputs": [],
   "source": [
    "from functools import reduce"
   ]
  },
  {
   "cell_type": "code",
   "execution_count": 33,
   "id": "255490a5-5374-44fb-9149-b1bbc433edf2",
   "metadata": {},
   "outputs": [],
   "source": [
    "l=[1,2,3,4,5]"
   ]
  },
  {
   "cell_type": "code",
   "execution_count": 34,
   "id": "9bb77d37-4ace-43a4-bf58-7cb2065ba071",
   "metadata": {},
   "outputs": [
    {
     "data": {
      "text/plain": [
       "15"
      ]
     },
     "execution_count": 34,
     "metadata": {},
     "output_type": "execute_result"
    }
   ],
   "source": [
    "reduce(lambda x,y:x+y,l)"
   ]
  },
  {
   "cell_type": "code",
   "execution_count": 36,
   "id": "daca36d2-0d39-4046-865f-0b661525e8af",
   "metadata": {},
   "outputs": [
    {
     "ename": "TypeError",
     "evalue": "'int' object is not iterable",
     "output_type": "error",
     "traceback": [
      "\u001b[0;31m---------------------------------------------------------------------------\u001b[0m",
      "\u001b[0;31mTypeError\u001b[0m                                 Traceback (most recent call last)",
      "Cell \u001b[0;32mIn[36], line 1\u001b[0m\n\u001b[0;32m----> 1\u001b[0m \u001b[38;5;28;43mlist\u001b[39;49m\u001b[43m(\u001b[49m\u001b[43mreduce\u001b[49m\u001b[43m(\u001b[49m\u001b[38;5;28;43;01mlambda\u001b[39;49;00m\u001b[43m \u001b[49m\u001b[43mx\u001b[49m\u001b[43m,\u001b[49m\u001b[43my\u001b[49m\u001b[43m:\u001b[49m\u001b[43mx\u001b[49m\u001b[38;5;241;43m+\u001b[39;49m\u001b[43my\u001b[49m\u001b[43m,\u001b[49m\u001b[43ml\u001b[49m\u001b[43m)\u001b[49m\u001b[43m)\u001b[49m\n",
      "\u001b[0;31mTypeError\u001b[0m: 'int' object is not iterable"
     ]
    }
   ],
   "source": [
    "list(reduce(lambda x,y:x+y,l))"
   ]
  },
  {
   "cell_type": "code",
   "execution_count": 37,
   "id": "20533bf5-8a67-4b58-aa32-210536799f41",
   "metadata": {},
   "outputs": [
    {
     "ename": "TypeError",
     "evalue": "<lambda>() missing 1 required positional argument: 'z'",
     "output_type": "error",
     "traceback": [
      "\u001b[0;31m---------------------------------------------------------------------------\u001b[0m",
      "\u001b[0;31mTypeError\u001b[0m                                 Traceback (most recent call last)",
      "Cell \u001b[0;32mIn[37], line 1\u001b[0m\n\u001b[0;32m----> 1\u001b[0m \u001b[43mreduce\u001b[49m\u001b[43m(\u001b[49m\u001b[38;5;28;43;01mlambda\u001b[39;49;00m\u001b[43m \u001b[49m\u001b[43mx\u001b[49m\u001b[43m,\u001b[49m\u001b[43my\u001b[49m\u001b[43m,\u001b[49m\u001b[43mz\u001b[49m\u001b[43m:\u001b[49m\u001b[43mx\u001b[49m\u001b[38;5;241;43m+\u001b[39;49m\u001b[43my\u001b[49m\u001b[38;5;241;43m+\u001b[39;49m\u001b[43mz\u001b[49m\u001b[43m,\u001b[49m\u001b[43ml\u001b[49m\u001b[43m)\u001b[49m\n",
      "\u001b[0;31mTypeError\u001b[0m: <lambda>() missing 1 required positional argument: 'z'"
     ]
    }
   ],
   "source": [
    "reduce(lambda x,y,z:x+y+z,l)"
   ]
  },
  {
   "cell_type": "code",
   "execution_count": 39,
   "id": "eb5878d5-c6d4-4db1-87af-9df8252bc32c",
   "metadata": {},
   "outputs": [
    {
     "data": {
      "text/plain": [
       "1"
      ]
     },
     "execution_count": 39,
     "metadata": {},
     "output_type": "execute_result"
    }
   ],
   "source": [
    "reduce(lambda x,y,z:x+y+z,[1])"
   ]
  },
  {
   "cell_type": "code",
   "execution_count": 40,
   "id": "9e187793-1de6-479a-97c2-c52bc971eae9",
   "metadata": {},
   "outputs": [],
   "source": [
    "## to carry multiplication using reduce"
   ]
  },
  {
   "cell_type": "code",
   "execution_count": 42,
   "id": "6e330199-f651-487f-bb32-a6d14702d68b",
   "metadata": {},
   "outputs": [
    {
     "data": {
      "text/plain": [
       "120"
      ]
     },
     "execution_count": 42,
     "metadata": {},
     "output_type": "execute_result"
    }
   ],
   "source": [
    "reduce(lambda x,y:x*y,l)"
   ]
  },
  {
   "cell_type": "code",
   "execution_count": 43,
   "id": "daadbd87-2549-4565-ac80-2c0e8a9a15e4",
   "metadata": {},
   "outputs": [],
   "source": [
    "##to calculate higest number from list"
   ]
  },
  {
   "cell_type": "code",
   "execution_count": 45,
   "id": "42ba8c38-f893-4f5e-8d46-eaa94835bff1",
   "metadata": {},
   "outputs": [
    {
     "data": {
      "text/plain": [
       "5"
      ]
     },
     "execution_count": 45,
     "metadata": {},
     "output_type": "execute_result"
    }
   ],
   "source": [
    "reduce(lambda x,y: x if x>y else y ,l)"
   ]
  },
  {
   "cell_type": "code",
   "execution_count": 46,
   "id": "45f20430-f66a-4446-93f0-d8582b7300f6",
   "metadata": {},
   "outputs": [],
   "source": [
    "##filter function\n"
   ]
  },
  {
   "cell_type": "code",
   "execution_count": 47,
   "id": "45ce7949-8257-48fd-ad94-2289e853f554",
   "metadata": {},
   "outputs": [],
   "source": [
    "##to find even number using filter function"
   ]
  },
  {
   "cell_type": "code",
   "execution_count": 49,
   "id": "77ab9d01-1641-40e4-bf47-2ba0da05aebf",
   "metadata": {},
   "outputs": [
    {
     "data": {
      "text/plain": [
       "[2, 4]"
      ]
     },
     "execution_count": 49,
     "metadata": {},
     "output_type": "execute_result"
    }
   ],
   "source": [
    "list(filter(lambda x:x%2==0,l ))"
   ]
  },
  {
   "cell_type": "code",
   "execution_count": 50,
   "id": "cc3d22e4-142d-40dc-b4cd-d712108830df",
   "metadata": {},
   "outputs": [],
   "source": [
    "##to find odd  number using filter function"
   ]
  },
  {
   "cell_type": "code",
   "execution_count": 55,
   "id": "0ff3efde-3dff-4ffc-9e10-2599a04617b7",
   "metadata": {},
   "outputs": [
    {
     "data": {
      "text/plain": [
       "[1, 3, 5]"
      ]
     },
     "execution_count": 55,
     "metadata": {},
     "output_type": "execute_result"
    }
   ],
   "source": [
    "list(filter(lambda x:x%2!=0,l))\n"
   ]
  },
  {
   "cell_type": "code",
   "execution_count": 56,
   "id": "58171148-6b49-405a-8f15-ef6a02ca2932",
   "metadata": {},
   "outputs": [],
   "source": [
    "##to find negative no from list "
   ]
  },
  {
   "cell_type": "code",
   "execution_count": 59,
   "id": "4048f157-113d-46dd-83c9-db2bc3f38e1c",
   "metadata": {},
   "outputs": [],
   "source": [
    "l1=[-3,4,5,6,-1,-5]"
   ]
  },
  {
   "cell_type": "code",
   "execution_count": 60,
   "id": "1ea9ad8c-a5f0-41f4-bda2-b4c04b072b8b",
   "metadata": {},
   "outputs": [
    {
     "data": {
      "text/plain": [
       "[-3, -1, -5]"
      ]
     },
     "execution_count": 60,
     "metadata": {},
     "output_type": "execute_result"
    }
   ],
   "source": [
    "list(filter(lambda x:x<0,l1))"
   ]
  },
  {
   "cell_type": "code",
   "execution_count": 61,
   "id": "e9b001f6-4083-4a12-b2ce-bc6b7dd5bb95",
   "metadata": {},
   "outputs": [],
   "source": [
    "##to find string from list those length is less than 6"
   ]
  },
  {
   "cell_type": "code",
   "execution_count": 62,
   "id": "98a940de-1207-4535-b203-dfcd626920d0",
   "metadata": {},
   "outputs": [],
   "source": [
    "l2=[\"sudh\",\"pwskills\",\"kumar\",\"bengalore\",\"krish\"]"
   ]
  },
  {
   "cell_type": "code",
   "execution_count": 64,
   "id": "99d16682-ca43-454b-a9b8-cd3f7227a619",
   "metadata": {},
   "outputs": [
    {
     "data": {
      "text/plain": [
       "['sudh', 'kumar', 'krish']"
      ]
     },
     "execution_count": 64,
     "metadata": {},
     "output_type": "execute_result"
    }
   ],
   "source": [
    "list(filter(lambda x:len(x)<6,l2))"
   ]
  },
  {
   "cell_type": "code",
   "execution_count": null,
   "id": "580c6c52-5ac9-47b5-8ef2-9560546e6923",
   "metadata": {},
   "outputs": [],
   "source": []
  }
 ],
 "metadata": {
  "kernelspec": {
   "display_name": "Python 3 (ipykernel)",
   "language": "python",
   "name": "python3"
  },
  "language_info": {
   "codemirror_mode": {
    "name": "ipython",
    "version": 3
   },
   "file_extension": ".py",
   "mimetype": "text/x-python",
   "name": "python",
   "nbconvert_exporter": "python",
   "pygments_lexer": "ipython3",
   "version": "3.10.8"
  }
 },
 "nbformat": 4,
 "nbformat_minor": 5
}
